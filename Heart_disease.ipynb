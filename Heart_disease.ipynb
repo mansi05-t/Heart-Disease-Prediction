{
  "nbformat": 4,
  "nbformat_minor": 0,
  "metadata": {
    "colab": {
      "name": "Heart_disease.ipynb",
      "provenance": [],
      "collapsed_sections": [],
      "authorship_tag": "ABX9TyPJ1yYc+KyjnQo/FzLoye8s",
      "include_colab_link": true
    },
    "kernelspec": {
      "name": "python3",
      "display_name": "Python 3"
    }
  },
  "cells": [
    {
      "cell_type": "markdown",
      "metadata": {
        "id": "view-in-github",
        "colab_type": "text"
      },
      "source": [
        "<a href=\"https://colab.research.google.com/github/mansi05-t/Heart-Disease-Prediction/blob/master/Heart_disease.ipynb\" target=\"_parent\"><img src=\"https://colab.research.google.com/assets/colab-badge.svg\" alt=\"Open In Colab\"/></a>"
      ]
    },
    {
      "cell_type": "markdown",
      "metadata": {
        "id": "X0CrRoO52FVP",
        "colab_type": "text"
      },
      "source": [
        "# Heart Disease\n",
        "\n",
        "Heart disease describes a range of conditions that affect your heart. Diseases under the heart disease umbrella include blood vessel diseases, such as coronary artery disease; heart rhythm problems (arrhythmias); and heart defects you're born with (congenital heart defects), among others. Facts related to Heart Disease:\n",
        "\n",
        "* One in every four deaths in the U.S. is related to heart disease.\n",
        "* Coronary heart disease, arrhythmia, and myocardial infarction are some examples of heart disease.\n",
        "* Heart disease might be treated with medication or surgery.\n",
        "* Quitting smoking and exercising regularly can help prevent heart disease."
      ]
    },
    {
      "cell_type": "markdown",
      "metadata": {
        "id": "IBpS-3cvlPwd",
        "colab_type": "text"
      },
      "source": [
        "# 1.1 Loading the libraries"
      ]
    },
    {
      "cell_type": "code",
      "metadata": {
        "id": "ISOsw0dNlHtR",
        "colab_type": "code",
        "colab": {}
      },
      "source": [
        "# Importing the libraries\n",
        "\n",
        "import numpy as np\n",
        "import pandas as pd\n",
        "import matplotlib.pyplot as plt\n",
        "import seaborn as sns\n",
        "import plotly.express as px\n",
        "from pandas_profiling import ProfileReport\n",
        "%matplotlib inline"
      ],
      "execution_count": null,
      "outputs": []
    },
    {
      "cell_type": "code",
      "metadata": {
        "id": "x3evnLBelVZm",
        "colab_type": "code",
        "colab": {
          "resources": {
            "http://localhost:8080/nbextensions/google.colab/files.js": {
              "data": "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",
              "ok": true,
              "headers": [
                [
                  "content-type",
                  "application/javascript"
                ]
              ],
              "status": 200,
              "status_text": ""
            }
          },
          "base_uri": "https://localhost:8080/",
          "height": 73
        },
        "outputId": "f2795f1b-c0ce-49fb-b2df-03b2ad624818"
      },
      "source": [
        "from google.colab import files\n",
        "files = files.upload()"
      ],
      "execution_count": 4,
      "outputs": [
        {
          "output_type": "display_data",
          "data": {
            "text/html": [
              "\n",
              "     <input type=\"file\" id=\"files-ad93ef18-4e30-4898-85c8-fac42a59eedb\" name=\"files[]\" multiple disabled\n",
              "        style=\"border:none\" />\n",
              "     <output id=\"result-ad93ef18-4e30-4898-85c8-fac42a59eedb\">\n",
              "      Upload widget is only available when the cell has been executed in the\n",
              "      current browser session. Please rerun this cell to enable.\n",
              "      </output>\n",
              "      <script src=\"/nbextensions/google.colab/files.js\"></script> "
            ],
            "text/plain": [
              "<IPython.core.display.HTML object>"
            ]
          },
          "metadata": {
            "tags": []
          }
        },
        {
          "output_type": "stream",
          "text": [
            "Saving heart - heart.csv to heart - heart.csv\n"
          ],
          "name": "stdout"
        }
      ]
    },
    {
      "cell_type": "code",
      "metadata": {
        "id": "_A8f90Ytlvwp",
        "colab_type": "code",
        "colab": {}
      },
      "source": [
        "df = pd.read_csv('heart - heart.csv')"
      ],
      "execution_count": 5,
      "outputs": []
    },
    {
      "cell_type": "markdown",
      "metadata": {
        "id": "6vcAxXYc2clg",
        "colab_type": "text"
      },
      "source": [
        "**This is how our data looks like**"
      ]
    },
    {
      "cell_type": "code",
      "metadata": {
        "id": "9Sp_x3fvl-O1",
        "colab_type": "code",
        "colab": {
          "base_uri": "https://localhost:8080/",
          "height": 194
        },
        "outputId": "5b181029-0def-467c-eaea-d6a237e1a655"
      },
      "source": [
        "df.head()"
      ],
      "execution_count": 6,
      "outputs": [
        {
          "output_type": "execute_result",
          "data": {
            "text/html": [
              "<div>\n",
              "<style scoped>\n",
              "    .dataframe tbody tr th:only-of-type {\n",
              "        vertical-align: middle;\n",
              "    }\n",
              "\n",
              "    .dataframe tbody tr th {\n",
              "        vertical-align: top;\n",
              "    }\n",
              "\n",
              "    .dataframe thead th {\n",
              "        text-align: right;\n",
              "    }\n",
              "</style>\n",
              "<table border=\"1\" class=\"dataframe\">\n",
              "  <thead>\n",
              "    <tr style=\"text-align: right;\">\n",
              "      <th></th>\n",
              "      <th>age</th>\n",
              "      <th>sex</th>\n",
              "      <th>cp</th>\n",
              "      <th>trestbps</th>\n",
              "      <th>chol</th>\n",
              "      <th>fbs</th>\n",
              "      <th>restecg</th>\n",
              "      <th>thalach</th>\n",
              "      <th>exang</th>\n",
              "      <th>oldpeak</th>\n",
              "      <th>slope</th>\n",
              "      <th>ca</th>\n",
              "      <th>thal</th>\n",
              "      <th>target</th>\n",
              "    </tr>\n",
              "  </thead>\n",
              "  <tbody>\n",
              "    <tr>\n",
              "      <th>0</th>\n",
              "      <td>63</td>\n",
              "      <td>1</td>\n",
              "      <td>3</td>\n",
              "      <td>145</td>\n",
              "      <td>233</td>\n",
              "      <td>1</td>\n",
              "      <td>0</td>\n",
              "      <td>150</td>\n",
              "      <td>0</td>\n",
              "      <td>2.3</td>\n",
              "      <td>0</td>\n",
              "      <td>0</td>\n",
              "      <td>1</td>\n",
              "      <td>1</td>\n",
              "    </tr>\n",
              "    <tr>\n",
              "      <th>1</th>\n",
              "      <td>37</td>\n",
              "      <td>1</td>\n",
              "      <td>2</td>\n",
              "      <td>130</td>\n",
              "      <td>250</td>\n",
              "      <td>0</td>\n",
              "      <td>1</td>\n",
              "      <td>187</td>\n",
              "      <td>0</td>\n",
              "      <td>3.5</td>\n",
              "      <td>0</td>\n",
              "      <td>0</td>\n",
              "      <td>2</td>\n",
              "      <td>1</td>\n",
              "    </tr>\n",
              "    <tr>\n",
              "      <th>2</th>\n",
              "      <td>41</td>\n",
              "      <td>0</td>\n",
              "      <td>1</td>\n",
              "      <td>130</td>\n",
              "      <td>204</td>\n",
              "      <td>0</td>\n",
              "      <td>0</td>\n",
              "      <td>172</td>\n",
              "      <td>0</td>\n",
              "      <td>1.4</td>\n",
              "      <td>2</td>\n",
              "      <td>0</td>\n",
              "      <td>2</td>\n",
              "      <td>1</td>\n",
              "    </tr>\n",
              "    <tr>\n",
              "      <th>3</th>\n",
              "      <td>56</td>\n",
              "      <td>1</td>\n",
              "      <td>1</td>\n",
              "      <td>120</td>\n",
              "      <td>236</td>\n",
              "      <td>0</td>\n",
              "      <td>1</td>\n",
              "      <td>178</td>\n",
              "      <td>0</td>\n",
              "      <td>0.8</td>\n",
              "      <td>2</td>\n",
              "      <td>0</td>\n",
              "      <td>2</td>\n",
              "      <td>1</td>\n",
              "    </tr>\n",
              "    <tr>\n",
              "      <th>4</th>\n",
              "      <td>57</td>\n",
              "      <td>0</td>\n",
              "      <td>0</td>\n",
              "      <td>120</td>\n",
              "      <td>354</td>\n",
              "      <td>0</td>\n",
              "      <td>1</td>\n",
              "      <td>163</td>\n",
              "      <td>1</td>\n",
              "      <td>0.6</td>\n",
              "      <td>2</td>\n",
              "      <td>0</td>\n",
              "      <td>2</td>\n",
              "      <td>1</td>\n",
              "    </tr>\n",
              "  </tbody>\n",
              "</table>\n",
              "</div>"
            ],
            "text/plain": [
              "   age  sex  cp  trestbps  chol  fbs  ...  exang  oldpeak  slope  ca  thal  target\n",
              "0   63    1   3       145   233    1  ...      0      2.3      0   0     1       1\n",
              "1   37    1   2       130   250    0  ...      0      3.5      0   0     2       1\n",
              "2   41    0   1       130   204    0  ...      0      1.4      2   0     2       1\n",
              "3   56    1   1       120   236    0  ...      0      0.8      2   0     2       1\n",
              "4   57    0   0       120   354    0  ...      1      0.6      2   0     2       1\n",
              "\n",
              "[5 rows x 14 columns]"
            ]
          },
          "metadata": {
            "tags": []
          },
          "execution_count": 6
        }
      ]
    },
    {
      "cell_type": "markdown",
      "metadata": {
        "id": "tVznTLg2YNXT",
        "colab_type": "text"
      },
      "source": [
        "**Size of Data**"
      ]
    },
    {
      "cell_type": "code",
      "metadata": {
        "id": "C8Ni041yXpUR",
        "colab_type": "code",
        "colab": {
          "base_uri": "https://localhost:8080/",
          "height": 35
        },
        "outputId": "585270f9-89f6-49df-8ca0-4e688ca231bb"
      },
      "source": [
        "df.shape"
      ],
      "execution_count": null,
      "outputs": [
        {
          "output_type": "execute_result",
          "data": {
            "text/plain": [
              "(303, 14)"
            ]
          },
          "metadata": {
            "tags": []
          },
          "execution_count": 7
        }
      ]
    },
    {
      "cell_type": "markdown",
      "metadata": {
        "id": "Idt-B4J42wBB",
        "colab_type": "text"
      },
      "source": [
        "Our data has 303 rows and 14 features."
      ]
    },
    {
      "cell_type": "markdown",
      "metadata": {
        "id": "Vdl3l8jjYTdN",
        "colab_type": "text"
      },
      "source": [
        "**Statistical Characteristics**"
      ]
    },
    {
      "cell_type": "code",
      "metadata": {
        "id": "LL7yYNU4YMtr",
        "colab_type": "code",
        "colab": {
          "base_uri": "https://localhost:8080/",
          "height": 458
        },
        "outputId": "a4811879-4219-4f59-ef8d-82eec6c6cc7a"
      },
      "source": [
        "df.describe().T"
      ],
      "execution_count": null,
      "outputs": [
        {
          "output_type": "execute_result",
          "data": {
            "text/html": [
              "<div>\n",
              "<style scoped>\n",
              "    .dataframe tbody tr th:only-of-type {\n",
              "        vertical-align: middle;\n",
              "    }\n",
              "\n",
              "    .dataframe tbody tr th {\n",
              "        vertical-align: top;\n",
              "    }\n",
              "\n",
              "    .dataframe thead th {\n",
              "        text-align: right;\n",
              "    }\n",
              "</style>\n",
              "<table border=\"1\" class=\"dataframe\">\n",
              "  <thead>\n",
              "    <tr style=\"text-align: right;\">\n",
              "      <th></th>\n",
              "      <th>count</th>\n",
              "      <th>mean</th>\n",
              "      <th>std</th>\n",
              "      <th>min</th>\n",
              "      <th>25%</th>\n",
              "      <th>50%</th>\n",
              "      <th>75%</th>\n",
              "      <th>max</th>\n",
              "    </tr>\n",
              "  </thead>\n",
              "  <tbody>\n",
              "    <tr>\n",
              "      <th>age</th>\n",
              "      <td>303.0</td>\n",
              "      <td>54.366337</td>\n",
              "      <td>9.082101</td>\n",
              "      <td>29.0</td>\n",
              "      <td>47.5</td>\n",
              "      <td>55.0</td>\n",
              "      <td>61.0</td>\n",
              "      <td>77.0</td>\n",
              "    </tr>\n",
              "    <tr>\n",
              "      <th>sex</th>\n",
              "      <td>303.0</td>\n",
              "      <td>0.683168</td>\n",
              "      <td>0.466011</td>\n",
              "      <td>0.0</td>\n",
              "      <td>0.0</td>\n",
              "      <td>1.0</td>\n",
              "      <td>1.0</td>\n",
              "      <td>1.0</td>\n",
              "    </tr>\n",
              "    <tr>\n",
              "      <th>cp</th>\n",
              "      <td>303.0</td>\n",
              "      <td>0.966997</td>\n",
              "      <td>1.032052</td>\n",
              "      <td>0.0</td>\n",
              "      <td>0.0</td>\n",
              "      <td>1.0</td>\n",
              "      <td>2.0</td>\n",
              "      <td>3.0</td>\n",
              "    </tr>\n",
              "    <tr>\n",
              "      <th>trestbps</th>\n",
              "      <td>303.0</td>\n",
              "      <td>131.623762</td>\n",
              "      <td>17.538143</td>\n",
              "      <td>94.0</td>\n",
              "      <td>120.0</td>\n",
              "      <td>130.0</td>\n",
              "      <td>140.0</td>\n",
              "      <td>200.0</td>\n",
              "    </tr>\n",
              "    <tr>\n",
              "      <th>chol</th>\n",
              "      <td>303.0</td>\n",
              "      <td>246.264026</td>\n",
              "      <td>51.830751</td>\n",
              "      <td>126.0</td>\n",
              "      <td>211.0</td>\n",
              "      <td>240.0</td>\n",
              "      <td>274.5</td>\n",
              "      <td>564.0</td>\n",
              "    </tr>\n",
              "    <tr>\n",
              "      <th>fbs</th>\n",
              "      <td>303.0</td>\n",
              "      <td>0.148515</td>\n",
              "      <td>0.356198</td>\n",
              "      <td>0.0</td>\n",
              "      <td>0.0</td>\n",
              "      <td>0.0</td>\n",
              "      <td>0.0</td>\n",
              "      <td>1.0</td>\n",
              "    </tr>\n",
              "    <tr>\n",
              "      <th>restecg</th>\n",
              "      <td>303.0</td>\n",
              "      <td>0.528053</td>\n",
              "      <td>0.525860</td>\n",
              "      <td>0.0</td>\n",
              "      <td>0.0</td>\n",
              "      <td>1.0</td>\n",
              "      <td>1.0</td>\n",
              "      <td>2.0</td>\n",
              "    </tr>\n",
              "    <tr>\n",
              "      <th>thalach</th>\n",
              "      <td>303.0</td>\n",
              "      <td>149.646865</td>\n",
              "      <td>22.905161</td>\n",
              "      <td>71.0</td>\n",
              "      <td>133.5</td>\n",
              "      <td>153.0</td>\n",
              "      <td>166.0</td>\n",
              "      <td>202.0</td>\n",
              "    </tr>\n",
              "    <tr>\n",
              "      <th>exang</th>\n",
              "      <td>303.0</td>\n",
              "      <td>0.326733</td>\n",
              "      <td>0.469794</td>\n",
              "      <td>0.0</td>\n",
              "      <td>0.0</td>\n",
              "      <td>0.0</td>\n",
              "      <td>1.0</td>\n",
              "      <td>1.0</td>\n",
              "    </tr>\n",
              "    <tr>\n",
              "      <th>oldpeak</th>\n",
              "      <td>303.0</td>\n",
              "      <td>1.039604</td>\n",
              "      <td>1.161075</td>\n",
              "      <td>0.0</td>\n",
              "      <td>0.0</td>\n",
              "      <td>0.8</td>\n",
              "      <td>1.6</td>\n",
              "      <td>6.2</td>\n",
              "    </tr>\n",
              "    <tr>\n",
              "      <th>slope</th>\n",
              "      <td>303.0</td>\n",
              "      <td>1.399340</td>\n",
              "      <td>0.616226</td>\n",
              "      <td>0.0</td>\n",
              "      <td>1.0</td>\n",
              "      <td>1.0</td>\n",
              "      <td>2.0</td>\n",
              "      <td>2.0</td>\n",
              "    </tr>\n",
              "    <tr>\n",
              "      <th>ca</th>\n",
              "      <td>303.0</td>\n",
              "      <td>0.729373</td>\n",
              "      <td>1.022606</td>\n",
              "      <td>0.0</td>\n",
              "      <td>0.0</td>\n",
              "      <td>0.0</td>\n",
              "      <td>1.0</td>\n",
              "      <td>4.0</td>\n",
              "    </tr>\n",
              "    <tr>\n",
              "      <th>thal</th>\n",
              "      <td>303.0</td>\n",
              "      <td>2.313531</td>\n",
              "      <td>0.612277</td>\n",
              "      <td>0.0</td>\n",
              "      <td>2.0</td>\n",
              "      <td>2.0</td>\n",
              "      <td>3.0</td>\n",
              "      <td>3.0</td>\n",
              "    </tr>\n",
              "    <tr>\n",
              "      <th>target</th>\n",
              "      <td>303.0</td>\n",
              "      <td>0.544554</td>\n",
              "      <td>0.498835</td>\n",
              "      <td>0.0</td>\n",
              "      <td>0.0</td>\n",
              "      <td>1.0</td>\n",
              "      <td>1.0</td>\n",
              "      <td>1.0</td>\n",
              "    </tr>\n",
              "  </tbody>\n",
              "</table>\n",
              "</div>"
            ],
            "text/plain": [
              "          count        mean        std    min    25%    50%    75%    max\n",
              "age       303.0   54.366337   9.082101   29.0   47.5   55.0   61.0   77.0\n",
              "sex       303.0    0.683168   0.466011    0.0    0.0    1.0    1.0    1.0\n",
              "cp        303.0    0.966997   1.032052    0.0    0.0    1.0    2.0    3.0\n",
              "trestbps  303.0  131.623762  17.538143   94.0  120.0  130.0  140.0  200.0\n",
              "chol      303.0  246.264026  51.830751  126.0  211.0  240.0  274.5  564.0\n",
              "fbs       303.0    0.148515   0.356198    0.0    0.0    0.0    0.0    1.0\n",
              "restecg   303.0    0.528053   0.525860    0.0    0.0    1.0    1.0    2.0\n",
              "thalach   303.0  149.646865  22.905161   71.0  133.5  153.0  166.0  202.0\n",
              "exang     303.0    0.326733   0.469794    0.0    0.0    0.0    1.0    1.0\n",
              "oldpeak   303.0    1.039604   1.161075    0.0    0.0    0.8    1.6    6.2\n",
              "slope     303.0    1.399340   0.616226    0.0    1.0    1.0    2.0    2.0\n",
              "ca        303.0    0.729373   1.022606    0.0    0.0    0.0    1.0    4.0\n",
              "thal      303.0    2.313531   0.612277    0.0    2.0    2.0    3.0    3.0\n",
              "target    303.0    0.544554   0.498835    0.0    0.0    1.0    1.0    1.0"
            ]
          },
          "metadata": {
            "tags": []
          },
          "execution_count": 8
        }
      ]
    },
    {
      "cell_type": "markdown",
      "metadata": {
        "id": "65UaPl4S24rE",
        "colab_type": "text"
      },
      "source": [
        "Observations:\n",
        "\n",
        "* The youngest heart patient is of age 29 and the eldest is of 77yrs.\n",
        "\n",
        "* The maximum Cholesterol level is 564."
      ]
    },
    {
      "cell_type": "markdown",
      "metadata": {
        "id": "t4lqbaTKbzbS",
        "colab_type": "text"
      },
      "source": [
        "**Selecting one column**"
      ]
    },
    {
      "cell_type": "code",
      "metadata": {
        "id": "eiRY_KDWZYO0",
        "colab_type": "code",
        "colab": {
          "base_uri": "https://localhost:8080/",
          "height": 399
        },
        "outputId": "3a69efec-6211-482c-a484-f07bdbd52a7e"
      },
      "source": [
        "df.iloc[:,:1]"
      ],
      "execution_count": null,
      "outputs": [
        {
          "output_type": "execute_result",
          "data": {
            "text/html": [
              "<div>\n",
              "<style scoped>\n",
              "    .dataframe tbody tr th:only-of-type {\n",
              "        vertical-align: middle;\n",
              "    }\n",
              "\n",
              "    .dataframe tbody tr th {\n",
              "        vertical-align: top;\n",
              "    }\n",
              "\n",
              "    .dataframe thead th {\n",
              "        text-align: right;\n",
              "    }\n",
              "</style>\n",
              "<table border=\"1\" class=\"dataframe\">\n",
              "  <thead>\n",
              "    <tr style=\"text-align: right;\">\n",
              "      <th></th>\n",
              "      <th>age</th>\n",
              "    </tr>\n",
              "  </thead>\n",
              "  <tbody>\n",
              "    <tr>\n",
              "      <th>0</th>\n",
              "      <td>63</td>\n",
              "    </tr>\n",
              "    <tr>\n",
              "      <th>1</th>\n",
              "      <td>37</td>\n",
              "    </tr>\n",
              "    <tr>\n",
              "      <th>2</th>\n",
              "      <td>41</td>\n",
              "    </tr>\n",
              "    <tr>\n",
              "      <th>3</th>\n",
              "      <td>56</td>\n",
              "    </tr>\n",
              "    <tr>\n",
              "      <th>4</th>\n",
              "      <td>57</td>\n",
              "    </tr>\n",
              "    <tr>\n",
              "      <th>...</th>\n",
              "      <td>...</td>\n",
              "    </tr>\n",
              "    <tr>\n",
              "      <th>298</th>\n",
              "      <td>57</td>\n",
              "    </tr>\n",
              "    <tr>\n",
              "      <th>299</th>\n",
              "      <td>45</td>\n",
              "    </tr>\n",
              "    <tr>\n",
              "      <th>300</th>\n",
              "      <td>68</td>\n",
              "    </tr>\n",
              "    <tr>\n",
              "      <th>301</th>\n",
              "      <td>57</td>\n",
              "    </tr>\n",
              "    <tr>\n",
              "      <th>302</th>\n",
              "      <td>57</td>\n",
              "    </tr>\n",
              "  </tbody>\n",
              "</table>\n",
              "<p>303 rows × 1 columns</p>\n",
              "</div>"
            ],
            "text/plain": [
              "     age\n",
              "0     63\n",
              "1     37\n",
              "2     41\n",
              "3     56\n",
              "4     57\n",
              "..   ...\n",
              "298   57\n",
              "299   45\n",
              "300   68\n",
              "301   57\n",
              "302   57\n",
              "\n",
              "[303 rows x 1 columns]"
            ]
          },
          "metadata": {
            "tags": []
          },
          "execution_count": 24
        }
      ]
    },
    {
      "cell_type": "markdown",
      "metadata": {
        "id": "ks3by_cIb9rJ",
        "colab_type": "text"
      },
      "source": [
        "**Columns**"
      ]
    },
    {
      "cell_type": "code",
      "metadata": {
        "id": "4L-q6MRkb5bU",
        "colab_type": "code",
        "colab": {
          "base_uri": "https://localhost:8080/",
          "height": 70
        },
        "outputId": "0523da4d-7d8e-426d-f39d-5d3380caa3c6"
      },
      "source": [
        "df.columns"
      ],
      "execution_count": null,
      "outputs": [
        {
          "output_type": "execute_result",
          "data": {
            "text/plain": [
              "Index(['age', 'sex', 'cp', 'trestbps', 'chol', 'fbs', 'restecg', 'thalach',\n",
              "       'exang', 'oldpeak', 'slope', 'ca', 'thal', 'target'],\n",
              "      dtype='object')"
            ]
          },
          "metadata": {
            "tags": []
          },
          "execution_count": 25
        }
      ]
    },
    {
      "cell_type": "markdown",
      "metadata": {
        "id": "tDd2CaC_hEcI",
        "colab_type": "text"
      },
      "source": [
        "#  Find the Numerical Features,Categorical Features, Alphanumeric Features"
      ]
    },
    {
      "cell_type": "markdown",
      "metadata": {
        "id": "fNsqir_uwyXc",
        "colab_type": "text"
      },
      "source": [
        "# Attributes information\n",
        "\n",
        "1.age: The person's age in years\n",
        "\n",
        "2.sex: The person's sex (1 = male, 0 = female)\n",
        "\n",
        "3.cp: The chest pain experienced (Value 0: typical angina, Value 1: atypical angina, Value 2: non-anginal pain, Value 3: asymptomatic)\n",
        "\n",
        "4.trestbps: The person's resting blood pressure (mm Hg on admission to the hospital)\n",
        "\n",
        "5.chol: The person's cholesterol measurement in mg/dl\n",
        "\n",
        "6.fbs: The person's fasting blood sugar (> 120 mg/dl, 1 = true; 0 = false)\n",
        "\n",
        "7.restecg: Resting electrocardiographic measurement (0 = normal, 1 = having ST-T wave abnormality, 2 = showing probable or definite left ventricular hypertrophy by Estes' criteria)\n",
        "\n",
        "8.thalach: The person's maximum heart rate achieved\n",
        "\n",
        "9.exang: Exercise induced angina (1 = yes; 0 = no)\n",
        "\n",
        "10.oldpeak: ST depression induced by exercise relative to rest ('ST' relates to positions on the ECG plot. See more here)\n",
        "\n",
        "11.slope: the slope of the peak exercise ST segment (Value 1: upsloping, Value 2: flat, Value 3: downsloping)\n",
        "\n",
        "12.ca: The number of major vessels (0-3)\n",
        "\n",
        "13.thal: A blood disorder called thalassemia (3 = normal; 6 = fixed defect; 7 = reversable defect)\n",
        "\n",
        "14.target: Heart disease (0 = no, 1 = yes)"
      ]
    },
    {
      "cell_type": "markdown",
      "metadata": {
        "id": "DErzI_rbjAJV",
        "colab_type": "text"
      },
      "source": [
        "\n",
        "* **Categorical**: \n",
        "\n",
        "1. Sex\n",
        "2. Chest pain type\n",
        "3. Fasting blood sugar(fbs)\n",
        "4. Resting electrocardiographic(RESTECG)\n",
        "5. Exercise induced angina(exang)\n",
        "6. Slope ST segment\n",
        "7. Thalassemia (thal)\n",
        "8. Target\n",
        "\n",
        "\n",
        "* **Numerical** **Features**: \n",
        "\n",
        "1. Age (Continuous)\n",
        "2. Resting blood pressure (trestbps)\n",
        "3. Cholesterol\n",
        "4. max_heart_rate_achieved(thalach)\n",
        "5. ST depression(oldpeak)\n",
        "6. number of major vessels(ca)\n"
      ]
    },
    {
      "cell_type": "code",
      "metadata": {
        "id": "gPHAigMH_oO5",
        "colab_type": "code",
        "colab": {
          "base_uri": "https://localhost:8080/",
          "height": 390
        },
        "outputId": "0a8123e5-05c3-4a19-9969-b2d1f9b79f1e"
      },
      "source": [
        "df.info()"
      ],
      "execution_count": null,
      "outputs": [
        {
          "output_type": "stream",
          "text": [
            "<class 'pandas.core.frame.DataFrame'>\n",
            "RangeIndex: 303 entries, 0 to 302\n",
            "Data columns (total 14 columns):\n",
            " #   Column    Non-Null Count  Dtype  \n",
            "---  ------    --------------  -----  \n",
            " 0   age       303 non-null    int64  \n",
            " 1   sex       303 non-null    int64  \n",
            " 2   cp        303 non-null    int64  \n",
            " 3   trestbps  303 non-null    int64  \n",
            " 4   chol      303 non-null    int64  \n",
            " 5   fbs       303 non-null    int64  \n",
            " 6   restecg   303 non-null    int64  \n",
            " 7   thalach   303 non-null    int64  \n",
            " 8   exang     303 non-null    int64  \n",
            " 9   oldpeak   303 non-null    float64\n",
            " 10  slope     303 non-null    int64  \n",
            " 11  ca        303 non-null    int64  \n",
            " 12  thal      303 non-null    int64  \n",
            " 13  target    303 non-null    int64  \n",
            "dtypes: float64(1), int64(13)\n",
            "memory usage: 33.3 KB\n"
          ],
          "name": "stdout"
        }
      ]
    },
    {
      "cell_type": "markdown",
      "metadata": {
        "id": "OL2GFj5U8TiZ",
        "colab_type": "text"
      },
      "source": [
        "There are no null values."
      ]
    },
    {
      "cell_type": "markdown",
      "metadata": {
        "id": "knQdoTIJeckZ",
        "colab_type": "text"
      },
      "source": [
        "**Renaming the columns**"
      ]
    },
    {
      "cell_type": "code",
      "metadata": {
        "id": "de2WnET6egge",
        "colab_type": "code",
        "colab": {}
      },
      "source": [
        "df = df.rename(columns={'age':'Age','sex':'Sex','cp':'Chest_pain','trestbps':'Resting_bp','chol':'Cholesterol','fbs':'Fasting_blood_sugar','restecg':'Rest_ecg',\n",
        "               'thalach':'Max_heart_rate','exang':'Exercise_induced_angina','oldpeak':'ST_depression','slope':'Slope','ca':'Num_major_vessels','thal':'Thalassemia','target':'Target'})"
      ],
      "execution_count": 7,
      "outputs": []
    },
    {
      "cell_type": "code",
      "metadata": {
        "id": "ek7t0nJggW6T",
        "colab_type": "code",
        "colab": {
          "base_uri": "https://localhost:8080/",
          "height": 194
        },
        "outputId": "f970ce66-d4b6-47ab-c1ef-290252dacc45"
      },
      "source": [
        "df.head()"
      ],
      "execution_count": null,
      "outputs": [
        {
          "output_type": "execute_result",
          "data": {
            "text/html": [
              "<div>\n",
              "<style scoped>\n",
              "    .dataframe tbody tr th:only-of-type {\n",
              "        vertical-align: middle;\n",
              "    }\n",
              "\n",
              "    .dataframe tbody tr th {\n",
              "        vertical-align: top;\n",
              "    }\n",
              "\n",
              "    .dataframe thead th {\n",
              "        text-align: right;\n",
              "    }\n",
              "</style>\n",
              "<table border=\"1\" class=\"dataframe\">\n",
              "  <thead>\n",
              "    <tr style=\"text-align: right;\">\n",
              "      <th></th>\n",
              "      <th>Age</th>\n",
              "      <th>Sex</th>\n",
              "      <th>Chest_pain</th>\n",
              "      <th>Resting_bp</th>\n",
              "      <th>Cholesterol</th>\n",
              "      <th>Fasting_blood_sugar</th>\n",
              "      <th>Rest_ecg</th>\n",
              "      <th>Max_heart_rate</th>\n",
              "      <th>Exercise_induced_angina</th>\n",
              "      <th>ST_depression</th>\n",
              "      <th>Slope</th>\n",
              "      <th>Num_major_vessels</th>\n",
              "      <th>Thalassemia</th>\n",
              "      <th>Target</th>\n",
              "    </tr>\n",
              "  </thead>\n",
              "  <tbody>\n",
              "    <tr>\n",
              "      <th>0</th>\n",
              "      <td>63</td>\n",
              "      <td>1</td>\n",
              "      <td>3</td>\n",
              "      <td>145</td>\n",
              "      <td>233</td>\n",
              "      <td>1</td>\n",
              "      <td>0</td>\n",
              "      <td>150</td>\n",
              "      <td>0</td>\n",
              "      <td>2.3</td>\n",
              "      <td>0</td>\n",
              "      <td>0</td>\n",
              "      <td>1</td>\n",
              "      <td>1</td>\n",
              "    </tr>\n",
              "    <tr>\n",
              "      <th>1</th>\n",
              "      <td>37</td>\n",
              "      <td>1</td>\n",
              "      <td>2</td>\n",
              "      <td>130</td>\n",
              "      <td>250</td>\n",
              "      <td>0</td>\n",
              "      <td>1</td>\n",
              "      <td>187</td>\n",
              "      <td>0</td>\n",
              "      <td>3.5</td>\n",
              "      <td>0</td>\n",
              "      <td>0</td>\n",
              "      <td>2</td>\n",
              "      <td>1</td>\n",
              "    </tr>\n",
              "    <tr>\n",
              "      <th>2</th>\n",
              "      <td>41</td>\n",
              "      <td>0</td>\n",
              "      <td>1</td>\n",
              "      <td>130</td>\n",
              "      <td>204</td>\n",
              "      <td>0</td>\n",
              "      <td>0</td>\n",
              "      <td>172</td>\n",
              "      <td>0</td>\n",
              "      <td>1.4</td>\n",
              "      <td>2</td>\n",
              "      <td>0</td>\n",
              "      <td>2</td>\n",
              "      <td>1</td>\n",
              "    </tr>\n",
              "    <tr>\n",
              "      <th>3</th>\n",
              "      <td>56</td>\n",
              "      <td>1</td>\n",
              "      <td>1</td>\n",
              "      <td>120</td>\n",
              "      <td>236</td>\n",
              "      <td>0</td>\n",
              "      <td>1</td>\n",
              "      <td>178</td>\n",
              "      <td>0</td>\n",
              "      <td>0.8</td>\n",
              "      <td>2</td>\n",
              "      <td>0</td>\n",
              "      <td>2</td>\n",
              "      <td>1</td>\n",
              "    </tr>\n",
              "    <tr>\n",
              "      <th>4</th>\n",
              "      <td>57</td>\n",
              "      <td>0</td>\n",
              "      <td>0</td>\n",
              "      <td>120</td>\n",
              "      <td>354</td>\n",
              "      <td>0</td>\n",
              "      <td>1</td>\n",
              "      <td>163</td>\n",
              "      <td>1</td>\n",
              "      <td>0.6</td>\n",
              "      <td>2</td>\n",
              "      <td>0</td>\n",
              "      <td>2</td>\n",
              "      <td>1</td>\n",
              "    </tr>\n",
              "  </tbody>\n",
              "</table>\n",
              "</div>"
            ],
            "text/plain": [
              "   Age  Sex  Chest_pain  ...  Num_major_vessels  Thalassemia  Target\n",
              "0   63    1           3  ...                  0            1       1\n",
              "1   37    1           2  ...                  0            2       1\n",
              "2   41    0           1  ...                  0            2       1\n",
              "3   56    1           1  ...                  0            2       1\n",
              "4   57    0           0  ...                  0            2       1\n",
              "\n",
              "[5 rows x 14 columns]"
            ]
          },
          "metadata": {
            "tags": []
          },
          "execution_count": 75
        }
      ]
    },
    {
      "cell_type": "markdown",
      "metadata": {
        "id": "yoBml4hWiPHm",
        "colab_type": "text"
      },
      "source": [
        "#  Quantitative: "
      ]
    },
    {
      "cell_type": "markdown",
      "metadata": {
        "id": "ghH-fFEoiVEf",
        "colab_type": "text"
      },
      "source": [
        "**Kdeplot showing Age**"
      ]
    },
    {
      "cell_type": "code",
      "metadata": {
        "id": "MtHwCHYPiSZT",
        "colab_type": "code",
        "colab": {
          "base_uri": "https://localhost:8080/",
          "height": 265
        },
        "outputId": "d2532387-4ccf-4c13-fc28-5cbca97517d9"
      },
      "source": [
        "sns.kdeplot(df['Age'], shade = True , color = 'c', Label = 'Age')\n",
        "plt.show()"
      ],
      "execution_count": null,
      "outputs": [
        {
          "output_type": "display_data",
          "data": {
            "image/png": "[encoded data removed]",
            "text/plain": [
              "<Figure size 432x288 with 1 Axes>"
            ]
          },
          "metadata": {
            "tags": [],
            "needs_background": "light"
          }
        }
      ]
    },
    {
      "cell_type": "markdown",
      "metadata": {
        "id": "2wv2Wu9ljZ5H",
        "colab_type": "text"
      },
      "source": [
        "**Histogram showing cholesterol**"
      ]
    },
    {
      "cell_type": "code",
      "metadata": {
        "id": "MHh52ssWjlGS",
        "colab_type": "code",
        "colab": {
          "base_uri": "https://localhost:8080/",
          "height": 336
        },
        "outputId": "7e2f8b8b-30f7-450e-e3ad-da3b237219de"
      },
      "source": [
        "df.hist(column = 'Cholesterol', bins = 5, color =\"#82E0AA\", grid = False, figsize=(8,5))\n",
        "plt.show()"
      ],
      "execution_count": null,
      "outputs": [
        {
          "output_type": "display_data",
          "data": {
            "image/png": "[encoded data removed]",
            "text/plain": [
              "<Figure size 576x360 with 1 Axes>"
            ]
          },
          "metadata": {
            "tags": [],
            "needs_background": "light"
          }
        }
      ]
    },
    {
      "cell_type": "code",
      "metadata": {
        "id": "uS-oYQtr-Zbj",
        "colab_type": "code",
        "colab": {
          "base_uri": "https://localhost:8080/",
          "height": 265
        },
        "outputId": "0890d23a-daf0-4ccc-e4d1-99de94fa7a14"
      },
      "source": [
        "sns.boxplot(data = df['Resting_bp'] )\n",
        "plt.show()"
      ],
      "execution_count": null,
      "outputs": [
        {
          "output_type": "display_data",
          "data": {
            "image/png": "[encoded data removed]",
            "text/plain": [
              "<Figure size 432x288 with 1 Axes>"
            ]
          },
          "metadata": {
            "tags": [],
            "needs_background": "light"
          }
        }
      ]
    },
    {
      "cell_type": "markdown",
      "metadata": {
        "id": "mbC4-FeB_chK",
        "colab_type": "text"
      },
      "source": [
        "**What is Box Plot?**\n",
        "\n",
        "A box plot (also known as box and whisker plot) is a type of chart often used in explanatory data analysis to visually show the distribution of numerical data and skewness through displaying the data quartiles (or percentiles) and averages.\n",
        "\n",
        "The line that divides the box into two parts is **Median**.\n",
        "\n",
        "The dark spots are known as the **Outliers**. \n",
        "An outlier is defined as a data point that is located outside the whiskers of the box plot.\n",
        "\n"
      ]
    },
    {
      "cell_type": "markdown",
      "metadata": {
        "id": "-Ouqk7JYizzc",
        "colab_type": "text"
      },
      "source": [
        "# Categorical vs. Quantitative"
      ]
    },
    {
      "cell_type": "code",
      "metadata": {
        "id": "_IrvHy5di1PR",
        "colab_type": "code",
        "colab": {
          "base_uri": "https://localhost:8080/",
          "height": 404
        },
        "outputId": "2f254e57-7cfe-49ef-ee23-56bba2f1e566"
      },
      "source": [
        "ax = pd.crosstab(df.Sex,df.Target).plot(kind = 'bar',figsize =(11,6), color=['#FFC300','#581845' ])\n",
        "plt.ylabel(\"\")\n",
        "plt.yticks([])\n",
        "plt.xlabel(\"\")\n",
        "for p in ax.patches:\n",
        "    ax.annotate(p.get_height(), (p.get_x()+0.15, p.get_height()+0.5))\n",
        "plt.title(\"Heart Disease frequency for Sex\")\n",
        "plt.xlabel('Sex (0 = Female, 1 = Male)')\n",
        "plt.xticks(rotation=0)\n",
        "plt.legend([\"Haven't Disease\", \"Have Disease\"])\n",
        "plt.ylabel('Frequency')\n",
        "plt.show()"
      ],
      "execution_count": null,
      "outputs": [
        {
          "output_type": "display_data",
          "data": {
            "image/png": "[encoded data removed]",
            "text/plain": [
              "<Figure size 792x432 with 1 Axes>"
            ]
          },
          "metadata": {
            "tags": []
          }
        }
      ]
    },
    {
      "cell_type": "code",
      "metadata": {
        "id": "lXAZsLCaB0wl",
        "colab_type": "code",
        "colab": {
          "base_uri": "https://localhost:8080/",
          "height": 106
        },
        "outputId": "6f0148ee-3c40-46aa-e7ed-f75cfe786e39"
      },
      "source": [
        "print(\"Gender (1 = Male , 0 = Female) \"'\\n')\n",
        "df['Sex'].value_counts(normalize = False)"
      ],
      "execution_count": null,
      "outputs": [
        {
          "output_type": "stream",
          "text": [
            "Gender (1 = Male , 0 = Female) \n",
            "\n"
          ],
          "name": "stdout"
        },
        {
          "output_type": "execute_result",
          "data": {
            "text/plain": [
              "1    207\n",
              "0     96\n",
              "Name: Sex, dtype: int64"
            ]
          },
          "metadata": {
            "tags": []
          },
          "execution_count": 36
        }
      ]
    },
    {
      "cell_type": "code",
      "metadata": {
        "id": "ueIs-UuBEM7r",
        "colab_type": "code",
        "colab": {
          "base_uri": "https://localhost:8080/",
          "height": 106
        },
        "outputId": "c1a431c0-e3b3-426f-af8f-5a97d42ee777"
      },
      "source": [
        "print(\"Target (1 = Yes , 0 = No) \"'\\n')\n",
        "df['Target'].value_counts(normalize = False)"
      ],
      "execution_count": null,
      "outputs": [
        {
          "output_type": "stream",
          "text": [
            "Target (1 = Yes , 0 = No) \n",
            "\n"
          ],
          "name": "stdout"
        },
        {
          "output_type": "execute_result",
          "data": {
            "text/plain": [
              "1    165\n",
              "0    138\n",
              "Name: Target, dtype: int64"
            ]
          },
          "metadata": {
            "tags": []
          },
          "execution_count": 32
        }
      ]
    },
    {
      "cell_type": "markdown",
      "metadata": {
        "id": "PabO_k-4JGwh",
        "colab_type": "text"
      },
      "source": [
        "Observations:\n",
        "\n",
        "* In our dataset, there are 207(~ 68%) males and 96 (~ 32%) females. \n",
        "\n",
        "* 93 out of 207 males and 72 out of 96 females are heart patients.\n",
        "* Out of 303 people, 165 (i.e. ~ 54%) are heart patients."
      ]
    },
    {
      "cell_type": "code",
      "metadata": {
        "id": "IqqIKcpTGUbf",
        "colab_type": "code",
        "colab": {
          "base_uri": "https://localhost:8080/",
          "height": 70
        },
        "outputId": "21704a5c-5156-439b-e983-08c5a0ee27bf"
      },
      "source": [
        "#Male patients\n",
        "a = len(df[(df.Sex==1)&(df['Target']==1)])\n",
        "\n",
        "# Female Patients\n",
        "b = len(df[(df.Sex==0)&(df['Target']==1)])\n",
        "\n",
        "print(\"Total number of patients are : \" , a+b)\n",
        "print( \"{:.2f}%\".format(a/(a+b)*100),  \"of the heart patients are Male\")\n",
        "print(\"{:.2f}%\".format(b/(a+b)*100),  \"of the heart patients are Female\")"
      ],
      "execution_count": null,
      "outputs": [
        {
          "output_type": "stream",
          "text": [
            "Total number of patients are :  165\n",
            "56.36% of the heart patients are Male\n",
            "43.64% of the heart patients are Female\n"
          ],
          "name": "stdout"
        }
      ]
    },
    {
      "cell_type": "markdown",
      "metadata": {
        "id": "8Xrv0OLFrwBP",
        "colab_type": "text"
      },
      "source": [
        "#Bar plot for checking the both target vs Sex"
      ]
    },
    {
      "cell_type": "code",
      "metadata": {
        "id": "KTf4OzuliwYf",
        "colab_type": "code",
        "colab": {
          "base_uri": "https://localhost:8080/",
          "height": 388
        },
        "outputId": "22fca72d-b074-49cb-b555-5d55dd12f205"
      },
      "source": [
        "# Subplot\n",
        "fig, ax = plt.subplots(1,2,figsize = (15,6))\n",
        "\n",
        "# bar plot using Groupby\n",
        "df.groupby('Sex')['Target'].count().plot.bar(color = ['#76D7C4','#F1948A'], ax=ax[0])\n",
        "\n",
        "# Count plot\n",
        "ax = sns.countplot(x='Sex',hue='Target',data=df,palette='husl',ax= ax[1])\n",
        "plt.ylabel(\"\")\n",
        "plt.yticks([])\n",
        "plt.xlabel(\"Sex\")\n",
        "for p in ax.patches:\n",
        "    ax.annotate(p.get_height(), (p.get_x()+0.15, p.get_height()+0.5))\n",
        "    \n",
        "plt.show()"
      ],
      "execution_count": null,
      "outputs": [
        {
          "output_type": "display_data",
          "data": {
            "image/png": "[encoded data removed]",
            "text/plain": [
              "<Figure size 1080x432 with 2 Axes>"
            ]
          },
          "metadata": {
            "tags": [],
            "needs_background": "light"
          }
        }
      ]
    },
    {
      "cell_type": "markdown",
      "metadata": {
        "id": "g0I0B0X-vqad",
        "colab_type": "text"
      },
      "source": [
        "0 is female, 1 is male so, we estimate that females have more heart disease probability according to males."
      ]
    },
    {
      "cell_type": "markdown",
      "metadata": {
        "id": "FxU5E1h8zYKa",
        "colab_type": "text"
      },
      "source": [
        "# Violinplot plot for checking the fasting_blood_sugar and Age vs target'"
      ]
    },
    {
      "cell_type": "code",
      "metadata": {
        "id": "Z7OMjZZa3Cgn",
        "colab_type": "code",
        "colab": {
          "base_uri": "https://localhost:8080/",
          "height": 442
        },
        "outputId": "58a2cf8e-a625-48b9-8e0d-a79f06d112e5"
      },
      "source": [
        "sns.set_style('ticks')\n",
        "fig, ax = plt.subplots(figsize = (12,7))\n",
        "sns.violinplot('Target','Age',hue='Fasting_blood_sugar', data=df, ax=ax, palette=\"Accent_r\") \n",
        "plt.show()"
      ],
      "execution_count": null,
      "outputs": [
        {
          "output_type": "display_data",
          "data": {
            "image/png": "[encoded data removed]",
            "text/plain": [
              "<Figure size 864x504 with 1 Axes>"
            ]
          },
          "metadata": {
            "tags": []
          }
        }
      ]
    },
    {
      "cell_type": "markdown",
      "metadata": {
        "id": "aerlsxiB_ZWu",
        "colab_type": "text"
      },
      "source": [
        "Target 0 means no and 1 means yes.\n",
        "\n",
        "The person's fasting blood sugar (> 120 mg/dl, 1 = true; 0 = false)"
      ]
    },
    {
      "cell_type": "markdown",
      "metadata": {
        "id": "N9UTVLTTzivb",
        "colab_type": "text"
      },
      "source": [
        "# Chest pain type"
      ]
    },
    {
      "cell_type": "code",
      "metadata": {
        "id": "fBz2akwC_lB6",
        "colab_type": "code",
        "colab": {
          "base_uri": "https://localhost:8080/",
          "height": 279
        },
        "outputId": "714a8b5a-2c5b-4e71-8f70-98d211635738"
      },
      "source": [
        "result=[]\n",
        "for i in df['Chest_pain']:\n",
        "    if i == 0:\n",
        "        result.append('Typical Angina')\n",
        "    if i ==1:\n",
        "        result.append('Atypical Angina')\n",
        "    if i ==2:\n",
        "        result.append('Non-Anginal')\n",
        "    if i==3:\n",
        "        result.append('Asymptomatic')\n",
        "        \n",
        "df['ChestPainType']=pd.Series(result)\n",
        "\n",
        "sns.swarmplot(x='ChestPainType', y='Age', data=df)\n",
        "plt.show()"
      ],
      "execution_count": null,
      "outputs": [
        {
          "output_type": "display_data",
          "data": {
            "image/png": "[encoded data removed]",
            "text/plain": [
              "<Figure size 432x288 with 1 Axes>"
            ]
          },
          "metadata": {
            "tags": [],
            "needs_background": "light"
          }
        }
      ]
    },
    {
      "cell_type": "markdown",
      "metadata": {
        "id": "fiZFtCGpzp9w",
        "colab_type": "text"
      },
      "source": [
        "# Chest pain type vs Target"
      ]
    },
    {
      "cell_type": "code",
      "metadata": {
        "id": "uIj_stRHbPGG",
        "colab_type": "code",
        "colab": {
          "base_uri": "https://localhost:8080/",
          "height": 511
        },
        "outputId": "9101ebae-5123-4169-e196-d644df1b49fb"
      },
      "source": [
        "fig, ax = plt.subplots(1,2,figsize = (15,7))\n",
        "\n",
        "df.groupby('ChestPainType')['Target'].count().plot.bar(color = ['#C70039','#FFC300','#5499C7','#8E44AD'] ,alpha = 0.8, ax=ax[0] )\n",
        "\n",
        "ax = sns.countplot(x='ChestPainType',hue='Target',data=df,palette='Accent_r',ax= ax[1])\n",
        "plt.ylabel(\"\")\n",
        "plt.yticks([])\n",
        "plt.xlabel(\"Chest Pain Type\")\n",
        "for p in ax.patches:\n",
        "    ax.annotate(p.get_height(), (p.get_x()+0.15, p.get_height()+0.5))\n",
        "\n",
        "plt.show()"
      ],
      "execution_count": null,
      "outputs": [
        {
          "output_type": "display_data",
          "data": {
            "image/png": "[encoded data removed]",
            "text/plain": [
              "<Figure size 1080x504 with 2 Axes>"
            ]
          },
          "metadata": {
            "tags": [],
            "needs_background": "light"
          }
        }
      ]
    },
    {
      "cell_type": "markdown",
      "metadata": {
        "id": "2emT-fyOvlYt",
        "colab_type": "text"
      },
      "source": [
        "We see that people with chest pain type - \"Non-Anginal\" and \"Typical Angina\",\n",
        " have more heart disease probability.\n",
        "\n",
        "There are 143 people who has Typical Angina chest pain, out of which 104 are suffering from heart disease. "
      ]
    },
    {
      "cell_type": "markdown",
      "metadata": {
        "id": "YTNBYKC9jrxo",
        "colab_type": "text"
      },
      "source": [
        "# Box plot"
      ]
    },
    {
      "cell_type": "code",
      "metadata": {
        "id": "OYESTrSgjtIw",
        "colab_type": "code",
        "colab": {
          "base_uri": "https://localhost:8080/",
          "height": 279
        },
        "outputId": "500effd7-1526-4995-eabc-68749ed94acc"
      },
      "source": [
        "sns.boxplot(x = 'Sex', y = 'Age', hue= 'Target', data = df, palette = 'Oranges')\n",
        "plt.show()"
      ],
      "execution_count": null,
      "outputs": [
        {
          "output_type": "display_data",
          "data": {
            "image/png": "[encoded data removed]",
            "text/plain": [
              "<Figure size 432x288 with 1 Axes>"
            ]
          },
          "metadata": {
            "tags": []
          }
        }
      ]
    },
    {
      "cell_type": "markdown",
      "metadata": {
        "id": "61JP-N0HuU8W",
        "colab_type": "text"
      },
      "source": [
        "Older people are more prone to heart disease."
      ]
    },
    {
      "cell_type": "markdown",
      "metadata": {
        "id": "KN3DRicxktP0",
        "colab_type": "text"
      },
      "source": [
        "#  Categorical vs. Categorical\n",
        "\n",
        "* Categorical: target, Sex."
      ]
    },
    {
      "cell_type": "markdown",
      "metadata": {
        "id": "hHu3enWlk2R7",
        "colab_type": "text"
      },
      "source": [
        "\n",
        "**Stacked bar chart**\n",
        "\n",
        "A stacked bar chart, also known as a stacked bar graph, is a graph that is used to break down and compare parts of a whole. Each bar in the chart represents a whole, and segments in the bar represent different parts or categories of that whole. Different colors are used to illustrate the different categories in the bar."
      ]
    },
    {
      "cell_type": "code",
      "metadata": {
        "id": "K0w3Nzo7kt2X",
        "colab_type": "code",
        "colab": {
          "base_uri": "https://localhost:8080/",
          "height": 295
        },
        "outputId": "5ea9e060-2f75-4b2f-d03e-a80ad6311d53"
      },
      "source": [
        "a = pd.crosstab(df.Sex,df.Target)\n",
        "a.plot.bar(stacked = True)\n",
        "plt.title(\"Heart Disease frequency for Sex\")\n",
        "plt.xlabel('Sex (0 = Female, 1 = Male)')\n",
        "plt.xticks(rotation=0)\n",
        "plt.legend([\"Haven't Disease\", \"Have Disease\"])\n",
        "plt.ylabel('Frequency')\n",
        "plt.show()"
      ],
      "execution_count": null,
      "outputs": [
        {
          "output_type": "display_data",
          "data": {
            "image/png": "[encoded data removed]",
            "text/plain": [
              "<Figure size 432x288 with 1 Axes>"
            ]
          },
          "metadata": {
            "tags": []
          }
        }
      ]
    },
    {
      "cell_type": "markdown",
      "metadata": {
        "id": "SqOMxELjuqmG",
        "colab_type": "text"
      },
      "source": [
        "More women are suffering from the disease."
      ]
    },
    {
      "cell_type": "markdown",
      "metadata": {
        "id": "6DNcPvZEoWrI",
        "colab_type": "text"
      },
      "source": [
        "# Quantitative vs. Quantitative "
      ]
    },
    {
      "cell_type": "code",
      "metadata": {
        "id": "YD0PHP-nnu2W",
        "colab_type": "code",
        "colab": {
          "base_uri": "https://localhost:8080/",
          "height": 279
        },
        "outputId": "4ce1729a-ad16-453b-d6d8-e17f4be62ebc"
      },
      "source": [
        "# scatter plot for showing age & st_depression\n",
        "\n",
        "sns.scatterplot(x = 'Age' , y = 'ST_depression',hue = 'Target', data = df  , palette= 'husl')\n",
        "plt.show()"
      ],
      "execution_count": null,
      "outputs": [
        {
          "output_type": "display_data",
          "data": {
            "image/png": "[encoded data removed]",
            "text/plain": [
              "<Figure size 432x288 with 1 Axes>"
            ]
          },
          "metadata": {
            "tags": []
          }
        }
      ]
    },
    {
      "cell_type": "markdown",
      "metadata": {
        "id": "1jazcEGi8lEw",
        "colab_type": "text"
      },
      "source": [
        "# Correlation plot"
      ]
    },
    {
      "cell_type": "code",
      "metadata": {
        "id": "lQBTujgwh3SP",
        "colab_type": "code",
        "colab": {
          "base_uri": "https://localhost:8080/",
          "height": 611
        },
        "outputId": "8a2d4af0-08be-4fc2-e0d1-ec1dbefe8666"
      },
      "source": [
        "plt.figure(figsize=(10,10))\n",
        "sns.heatmap(df.corr(),vmax=.3, center=0,\n",
        "            square=True, linewidths=.5, cbar_kws={\"shrink\": .5},annot=True)\n",
        "plt.tight_layout()\n",
        "plt.show()"
      ],
      "execution_count": null,
      "outputs": [
        {
          "output_type": "display_data",
          "data": {
            "image/png": "[encoded data removed]",
            "text/plain": [
              "<Figure size 720x720 with 2 Axes>"
            ]
          },
          "metadata": {
            "tags": [],
            "needs_background": "light"
          }
        }
      ]
    },
    {
      "cell_type": "markdown",
      "metadata": {
        "id": "z-29NIOu8sJL",
        "colab_type": "text"
      },
      "source": [
        "Chest pain, Maximum heart rate and slope are positively related to target."
      ]
    },
    {
      "cell_type": "markdown",
      "metadata": {
        "id": "iMgW9brMxDJP",
        "colab_type": "text"
      },
      "source": [
        "# Building Model"
      ]
    },
    {
      "cell_type": "code",
      "metadata": {
        "id": "_H3q2d9nvgqQ",
        "colab_type": "code",
        "colab": {}
      },
      "source": [
        "from sklearn.model_selection import train_test_split\n",
        "from sklearn.neighbors import KNeighborsClassifier\n",
        "from sklearn.metrics import accuracy_score\n",
        "from sklearn.metrics import classification_report\n",
        "from keras.models import Sequential\n",
        "from keras.layers import Dense\n",
        "from pandas import set_option"
      ],
      "execution_count": 8,
      "outputs": []
    },
    {
      "cell_type": "markdown",
      "metadata": {
        "id": "vIZMGi7Aw-fe",
        "colab_type": "text"
      },
      "source": [
        "**Train-test split**"
      ]
    },
    {
      "cell_type": "code",
      "metadata": {
        "id": "fH3ge6lVwyx6",
        "colab_type": "code",
        "colab": {}
      },
      "source": [
        "x = df.drop(\"Target\",axis=1)\n",
        "y = df[\"Target\"]\n",
        "X_train,X_test,Y_train,Y_test = train_test_split(x,y,test_size=0.20,random_state=0)"
      ],
      "execution_count": 9,
      "outputs": []
    },
    {
      "cell_type": "code",
      "metadata": {
        "id": "dQyhsqHwxHQk",
        "colab_type": "code",
        "colab": {
          "base_uri": "https://localhost:8080/",
          "height": 35
        },
        "outputId": "97815186-68a3-431e-d563-6ded6b678dde"
      },
      "source": [
        "X_train.shape"
      ],
      "execution_count": 10,
      "outputs": [
        {
          "output_type": "execute_result",
          "data": {
            "text/plain": [
              "(242, 13)"
            ]
          },
          "metadata": {
            "tags": []
          },
          "execution_count": 10
        }
      ]
    },
    {
      "cell_type": "code",
      "metadata": {
        "id": "7VdKITAuxHqr",
        "colab_type": "code",
        "colab": {
          "base_uri": "https://localhost:8080/",
          "height": 35
        },
        "outputId": "005e4f48-ef02-4e81-8981-14a11f489659"
      },
      "source": [
        "Y_train.shape"
      ],
      "execution_count": 11,
      "outputs": [
        {
          "output_type": "execute_result",
          "data": {
            "text/plain": [
              "(242,)"
            ]
          },
          "metadata": {
            "tags": []
          },
          "execution_count": 11
        }
      ]
    },
    {
      "cell_type": "code",
      "metadata": {
        "id": "l4AaR687xMU-",
        "colab_type": "code",
        "colab": {
          "base_uri": "https://localhost:8080/",
          "height": 35
        },
        "outputId": "93bde611-b079-4017-c3f6-6839f75720f5"
      },
      "source": [
        "X_test.shape"
      ],
      "execution_count": 12,
      "outputs": [
        {
          "output_type": "execute_result",
          "data": {
            "text/plain": [
              "(61, 13)"
            ]
          },
          "metadata": {
            "tags": []
          },
          "execution_count": 12
        }
      ]
    },
    {
      "cell_type": "code",
      "metadata": {
        "id": "wzTG9GvcxOej",
        "colab_type": "code",
        "colab": {
          "base_uri": "https://localhost:8080/",
          "height": 35
        },
        "outputId": "e05edb91-2f1a-42be-cd44-8a90587db0d2"
      },
      "source": [
        "Y_test.shape"
      ],
      "execution_count": 13,
      "outputs": [
        {
          "output_type": "execute_result",
          "data": {
            "text/plain": [
              "(61,)"
            ]
          },
          "metadata": {
            "tags": []
          },
          "execution_count": 13
        }
      ]
    },
    {
      "cell_type": "markdown",
      "metadata": {
        "id": "1wePxqHkxTO5",
        "colab_type": "text"
      },
      "source": [
        "**K Nearest Neighbors**"
      ]
    },
    {
      "cell_type": "code",
      "metadata": {
        "id": "9J_o9sNoxRUo",
        "colab_type": "code",
        "colab": {}
      },
      "source": [
        "knn = KNeighborsClassifier(n_neighbors=7)\n",
        "knn.fit(X_train,Y_train)\n",
        "Y_pred_knn=knn.predict(X_test)"
      ],
      "execution_count": 14,
      "outputs": []
    },
    {
      "cell_type": "markdown",
      "metadata": {
        "id": "8-UCkDZLxfhc",
        "colab_type": "text"
      },
      "source": [
        "**Neural Network**"
      ]
    },
    {
      "cell_type": "code",
      "metadata": {
        "id": "FpkYSn_xxWEm",
        "colab_type": "code",
        "colab": {}
      },
      "source": [
        "# Build Neural network using keras\n",
        "model = Sequential()\n",
        "model.add(Dense(7,activation='relu',input_dim=13))\n",
        "model.add(Dense(1,activation='sigmoid'))\n",
        "\n",
        "model.compile(loss='binary_crossentropy',optimizer='adam',metrics=['accuracy'])"
      ],
      "execution_count": 15,
      "outputs": []
    },
    {
      "cell_type": "code",
      "metadata": {
        "id": "H7uZzaZkxZhk",
        "colab_type": "code",
        "colab": {
          "base_uri": "https://localhost:8080/",
          "height": 230
        },
        "outputId": "37d97af5-92ad-4b45-c2e2-991ab3c31b81"
      },
      "source": [
        "model.summary()"
      ],
      "execution_count": 16,
      "outputs": [
        {
          "output_type": "stream",
          "text": [
            "Model: \"sequential\"\n",
            "_________________________________________________________________\n",
            "Layer (type)                 Output Shape              Param #   \n",
            "=================================================================\n",
            "dense (Dense)                (None, 7)                 98        \n",
            "_________________________________________________________________\n",
            "dense_1 (Dense)              (None, 1)                 8         \n",
            "=================================================================\n",
            "Total params: 106\n",
            "Trainable params: 106\n",
            "Non-trainable params: 0\n",
            "_________________________________________________________________\n"
          ],
          "name": "stdout"
        }
      ]
    },
    {
      "cell_type": "markdown",
      "metadata": {
        "id": "RnfH1Rf7xp6r",
        "colab_type": "text"
      },
      "source": [
        "# Training and Validating Model"
      ]
    },
    {
      "cell_type": "markdown",
      "metadata": {
        "id": "Xn7wQnhFxusU",
        "colab_type": "text"
      },
      "source": [
        "**K Nearest Neighbours**"
      ]
    },
    {
      "cell_type": "code",
      "metadata": {
        "id": "4-mAoAtExcM5",
        "colab_type": "code",
        "colab": {
          "base_uri": "https://localhost:8080/",
          "height": 35
        },
        "outputId": "3e0a643e-7c38-4c11-f4c0-44672b5b46e6"
      },
      "source": [
        "# Accuracy Score \n",
        "score_knn = round(accuracy_score(Y_test,Y_pred_knn)*100,2)\n",
        "print(\"The accuracy score achieved using KNN is: \"+str(score_knn)+\" %\")"
      ],
      "execution_count": 17,
      "outputs": [
        {
          "output_type": "stream",
          "text": [
            "The accuracy score achieved using KNN is: 67.21 %\n"
          ],
          "name": "stdout"
        }
      ]
    },
    {
      "cell_type": "markdown",
      "metadata": {
        "id": "A2QG9Fl3x4XE",
        "colab_type": "text"
      },
      "source": [
        "**Neural Network**"
      ]
    },
    {
      "cell_type": "code",
      "metadata": {
        "id": "4OdWZYy-x0F2",
        "colab_type": "code",
        "colab": {
          "base_uri": "https://localhost:8080/",
          "height": 1000
        },
        "outputId": "34f49e6a-13dd-4970-9f65-12153a412c57"
      },
      "source": [
        "# Train your neural network with 250 epochs\n",
        "model.fit(X_train, Y_train, epochs=250, validation_data=(X_test, Y_test))"
      ],
      "execution_count": 18,
      "outputs": [
        {
          "output_type": "stream",
          "text": [
            "Epoch 1/250\n",
            "8/8 [==============================] - 0s 21ms/step - loss: 15.2662 - accuracy: 0.5331 - val_loss: 13.1983 - val_accuracy: 0.5574\n",
            "Epoch 2/250\n",
            "8/8 [==============================] - 0s 3ms/step - loss: 12.4857 - accuracy: 0.5124 - val_loss: 10.8147 - val_accuracy: 0.5082\n",
            "Epoch 3/250\n",
            "8/8 [==============================] - 0s 3ms/step - loss: 10.1764 - accuracy: 0.4752 - val_loss: 8.8468 - val_accuracy: 0.4590\n",
            "Epoch 4/250\n",
            "8/8 [==============================] - 0s 3ms/step - loss: 8.2930 - accuracy: 0.4215 - val_loss: 7.5463 - val_accuracy: 0.4098\n",
            "Epoch 5/250\n",
            "8/8 [==============================] - 0s 3ms/step - loss: 7.2835 - accuracy: 0.3843 - val_loss: 6.9119 - val_accuracy: 0.3443\n",
            "Epoch 6/250\n",
            "8/8 [==============================] - 0s 3ms/step - loss: 6.7930 - accuracy: 0.3719 - val_loss: 6.7432 - val_accuracy: 0.3115\n",
            "Epoch 7/250\n",
            "8/8 [==============================] - 0s 3ms/step - loss: 6.5876 - accuracy: 0.3678 - val_loss: 6.6448 - val_accuracy: 0.2951\n",
            "Epoch 8/250\n",
            "8/8 [==============================] - 0s 3ms/step - loss: 6.4089 - accuracy: 0.3554 - val_loss: 6.4661 - val_accuracy: 0.2787\n",
            "Epoch 9/250\n",
            "8/8 [==============================] - 0s 3ms/step - loss: 6.2069 - accuracy: 0.3471 - val_loss: 6.2519 - val_accuracy: 0.2951\n",
            "Epoch 10/250\n",
            "8/8 [==============================] - 0s 3ms/step - loss: 6.0096 - accuracy: 0.3554 - val_loss: 6.0208 - val_accuracy: 0.3115\n",
            "Epoch 11/250\n",
            "8/8 [==============================] - 0s 3ms/step - loss: 5.8237 - accuracy: 0.3595 - val_loss: 5.8074 - val_accuracy: 0.2951\n",
            "Epoch 12/250\n",
            "8/8 [==============================] - 0s 3ms/step - loss: 5.6291 - accuracy: 0.3636 - val_loss: 5.6099 - val_accuracy: 0.2951\n",
            "Epoch 13/250\n",
            "8/8 [==============================] - 0s 3ms/step - loss: 5.4446 - accuracy: 0.3636 - val_loss: 5.4640 - val_accuracy: 0.2787\n",
            "Epoch 14/250\n",
            "8/8 [==============================] - 0s 3ms/step - loss: 5.2489 - accuracy: 0.3512 - val_loss: 5.2688 - val_accuracy: 0.2951\n",
            "Epoch 15/250\n",
            "8/8 [==============================] - 0s 3ms/step - loss: 5.0611 - accuracy: 0.3471 - val_loss: 5.0955 - val_accuracy: 0.2787\n",
            "Epoch 16/250\n",
            "8/8 [==============================] - 0s 3ms/step - loss: 4.8834 - accuracy: 0.3471 - val_loss: 4.9223 - val_accuracy: 0.2787\n",
            "Epoch 17/250\n",
            "8/8 [==============================] - 0s 3ms/step - loss: 4.7051 - accuracy: 0.3430 - val_loss: 4.7571 - val_accuracy: 0.2787\n",
            "Epoch 18/250\n",
            "8/8 [==============================] - 0s 3ms/step - loss: 4.5254 - accuracy: 0.3471 - val_loss: 4.5753 - val_accuracy: 0.2787\n",
            "Epoch 19/250\n",
            "8/8 [==============================] - 0s 3ms/step - loss: 4.3600 - accuracy: 0.3471 - val_loss: 4.3803 - val_accuracy: 0.2787\n",
            "Epoch 20/250\n",
            "8/8 [==============================] - 0s 3ms/step - loss: 4.1837 - accuracy: 0.3430 - val_loss: 4.2056 - val_accuracy: 0.2951\n",
            "Epoch 21/250\n",
            "8/8 [==============================] - 0s 3ms/step - loss: 4.0202 - accuracy: 0.3471 - val_loss: 4.0281 - val_accuracy: 0.2951\n",
            "Epoch 22/250\n",
            "8/8 [==============================] - 0s 3ms/step - loss: 3.8395 - accuracy: 0.3512 - val_loss: 3.8932 - val_accuracy: 0.2951\n",
            "Epoch 23/250\n",
            "8/8 [==============================] - 0s 3ms/step - loss: 3.6908 - accuracy: 0.3471 - val_loss: 3.7457 - val_accuracy: 0.2787\n",
            "Epoch 24/250\n",
            "8/8 [==============================] - 0s 3ms/step - loss: 3.5273 - accuracy: 0.3430 - val_loss: 3.5841 - val_accuracy: 0.2787\n",
            "Epoch 25/250\n",
            "8/8 [==============================] - 0s 3ms/step - loss: 3.3851 - accuracy: 0.3430 - val_loss: 3.4299 - val_accuracy: 0.2623\n",
            "Epoch 26/250\n",
            "8/8 [==============================] - 0s 3ms/step - loss: 3.2282 - accuracy: 0.3388 - val_loss: 3.2830 - val_accuracy: 0.2623\n",
            "Epoch 27/250\n",
            "8/8 [==============================] - 0s 3ms/step - loss: 3.1017 - accuracy: 0.3471 - val_loss: 3.1272 - val_accuracy: 0.2787\n",
            "Epoch 28/250\n",
            "8/8 [==============================] - 0s 4ms/step - loss: 2.9507 - accuracy: 0.3471 - val_loss: 3.0033 - val_accuracy: 0.2623\n",
            "Epoch 29/250\n",
            "8/8 [==============================] - 0s 3ms/step - loss: 2.8405 - accuracy: 0.3347 - val_loss: 2.8562 - val_accuracy: 0.2951\n",
            "Epoch 30/250\n",
            "8/8 [==============================] - 0s 3ms/step - loss: 2.6952 - accuracy: 0.3347 - val_loss: 2.7531 - val_accuracy: 0.2951\n",
            "Epoch 31/250\n",
            "8/8 [==============================] - 0s 3ms/step - loss: 2.5761 - accuracy: 0.3595 - val_loss: 2.6644 - val_accuracy: 0.2951\n",
            "Epoch 32/250\n",
            "8/8 [==============================] - 0s 3ms/step - loss: 2.4674 - accuracy: 0.3471 - val_loss: 2.5593 - val_accuracy: 0.2951\n",
            "Epoch 33/250\n",
            "8/8 [==============================] - 0s 3ms/step - loss: 2.3683 - accuracy: 0.3388 - val_loss: 2.4088 - val_accuracy: 0.3115\n",
            "Epoch 34/250\n",
            "8/8 [==============================] - 0s 3ms/step - loss: 2.2530 - accuracy: 0.3264 - val_loss: 2.3084 - val_accuracy: 0.2951\n",
            "Epoch 35/250\n",
            "8/8 [==============================] - 0s 3ms/step - loss: 2.1544 - accuracy: 0.3264 - val_loss: 2.2427 - val_accuracy: 0.3115\n",
            "Epoch 36/250\n",
            "8/8 [==============================] - 0s 3ms/step - loss: 2.0586 - accuracy: 0.3347 - val_loss: 2.1360 - val_accuracy: 0.2951\n",
            "Epoch 37/250\n",
            "8/8 [==============================] - 0s 3ms/step - loss: 1.9795 - accuracy: 0.3182 - val_loss: 2.0724 - val_accuracy: 0.3115\n",
            "Epoch 38/250\n",
            "8/8 [==============================] - 0s 3ms/step - loss: 1.8927 - accuracy: 0.3264 - val_loss: 1.9809 - val_accuracy: 0.3115\n",
            "Epoch 39/250\n",
            "8/8 [==============================] - 0s 3ms/step - loss: 1.8168 - accuracy: 0.3471 - val_loss: 1.9085 - val_accuracy: 0.3115\n",
            "Epoch 40/250\n",
            "8/8 [==============================] - 0s 3ms/step - loss: 1.7725 - accuracy: 0.3430 - val_loss: 1.8606 - val_accuracy: 0.3115\n",
            "Epoch 41/250\n",
            "8/8 [==============================] - 0s 3ms/step - loss: 1.7000 - accuracy: 0.3388 - val_loss: 1.7778 - val_accuracy: 0.3279\n",
            "Epoch 42/250\n",
            "8/8 [==============================] - 0s 3ms/step - loss: 1.6309 - accuracy: 0.3802 - val_loss: 1.7268 - val_accuracy: 0.3279\n",
            "Epoch 43/250\n",
            "8/8 [==============================] - 0s 3ms/step - loss: 1.5738 - accuracy: 0.3802 - val_loss: 1.6736 - val_accuracy: 0.3279\n",
            "Epoch 44/250\n",
            "8/8 [==============================] - 0s 3ms/step - loss: 1.5222 - accuracy: 0.3843 - val_loss: 1.6290 - val_accuracy: 0.3443\n",
            "Epoch 45/250\n",
            "8/8 [==============================] - 0s 3ms/step - loss: 1.4816 - accuracy: 0.3678 - val_loss: 1.5860 - val_accuracy: 0.3443\n",
            "Epoch 46/250\n",
            "8/8 [==============================] - 0s 3ms/step - loss: 1.4366 - accuracy: 0.3926 - val_loss: 1.5346 - val_accuracy: 0.3443\n",
            "Epoch 47/250\n",
            "8/8 [==============================] - 0s 3ms/step - loss: 1.3970 - accuracy: 0.4050 - val_loss: 1.4889 - val_accuracy: 0.3443\n",
            "Epoch 48/250\n",
            "8/8 [==============================] - 0s 3ms/step - loss: 1.3594 - accuracy: 0.4050 - val_loss: 1.4487 - val_accuracy: 0.3607\n",
            "Epoch 49/250\n",
            "8/8 [==============================] - 0s 3ms/step - loss: 1.3218 - accuracy: 0.4256 - val_loss: 1.4093 - val_accuracy: 0.3607\n",
            "Epoch 50/250\n",
            "8/8 [==============================] - 0s 3ms/step - loss: 1.2910 - accuracy: 0.4256 - val_loss: 1.3727 - val_accuracy: 0.3770\n",
            "Epoch 51/250\n",
            "8/8 [==============================] - 0s 3ms/step - loss: 1.2648 - accuracy: 0.4339 - val_loss: 1.3447 - val_accuracy: 0.3770\n",
            "Epoch 52/250\n",
            "8/8 [==============================] - 0s 3ms/step - loss: 1.2371 - accuracy: 0.4132 - val_loss: 1.3282 - val_accuracy: 0.3934\n",
            "Epoch 53/250\n",
            "8/8 [==============================] - 0s 3ms/step - loss: 1.2086 - accuracy: 0.4091 - val_loss: 1.2774 - val_accuracy: 0.3934\n",
            "Epoch 54/250\n",
            "8/8 [==============================] - 0s 3ms/step - loss: 1.1777 - accuracy: 0.4339 - val_loss: 1.2456 - val_accuracy: 0.3443\n",
            "Epoch 55/250\n",
            "8/8 [==============================] - 0s 3ms/step - loss: 1.1596 - accuracy: 0.4215 - val_loss: 1.2339 - val_accuracy: 0.3934\n",
            "Epoch 56/250\n",
            "8/8 [==============================] - 0s 3ms/step - loss: 1.1309 - accuracy: 0.4380 - val_loss: 1.1886 - val_accuracy: 0.3443\n",
            "Epoch 57/250\n",
            "8/8 [==============================] - 0s 3ms/step - loss: 1.1005 - accuracy: 0.4298 - val_loss: 1.1684 - val_accuracy: 0.3770\n",
            "Epoch 58/250\n",
            "8/8 [==============================] - 0s 3ms/step - loss: 1.0811 - accuracy: 0.4421 - val_loss: 1.1504 - val_accuracy: 0.4098\n",
            "Epoch 59/250\n",
            "8/8 [==============================] - 0s 3ms/step - loss: 1.0571 - accuracy: 0.4380 - val_loss: 1.1161 - val_accuracy: 0.3770\n",
            "Epoch 60/250\n",
            "8/8 [==============================] - 0s 3ms/step - loss: 1.0400 - accuracy: 0.4380 - val_loss: 1.0912 - val_accuracy: 0.3770\n",
            "Epoch 61/250\n",
            "8/8 [==============================] - 0s 4ms/step - loss: 1.0135 - accuracy: 0.4463 - val_loss: 1.0821 - val_accuracy: 0.4262\n",
            "Epoch 62/250\n",
            "8/8 [==============================] - 0s 3ms/step - loss: 0.9973 - accuracy: 0.4504 - val_loss: 1.0534 - val_accuracy: 0.4098\n",
            "Epoch 63/250\n",
            "8/8 [==============================] - 0s 3ms/step - loss: 0.9752 - accuracy: 0.4628 - val_loss: 1.0307 - val_accuracy: 0.4098\n",
            "Epoch 64/250\n",
            "8/8 [==============================] - 0s 3ms/step - loss: 0.9606 - accuracy: 0.4711 - val_loss: 1.0102 - val_accuracy: 0.3934\n",
            "Epoch 65/250\n",
            "8/8 [==============================] - 0s 3ms/step - loss: 0.9380 - accuracy: 0.4711 - val_loss: 0.9905 - val_accuracy: 0.3934\n",
            "Epoch 66/250\n",
            "8/8 [==============================] - 0s 3ms/step - loss: 0.9194 - accuracy: 0.4711 - val_loss: 0.9688 - val_accuracy: 0.4098\n",
            "Epoch 67/250\n",
            "8/8 [==============================] - 0s 4ms/step - loss: 0.9086 - accuracy: 0.4711 - val_loss: 0.9466 - val_accuracy: 0.4262\n",
            "Epoch 68/250\n",
            "8/8 [==============================] - 0s 4ms/step - loss: 0.8885 - accuracy: 0.4793 - val_loss: 0.9417 - val_accuracy: 0.4098\n",
            "Epoch 69/250\n",
            "8/8 [==============================] - 0s 3ms/step - loss: 0.8710 - accuracy: 0.4711 - val_loss: 0.9157 - val_accuracy: 0.4262\n",
            "Epoch 70/250\n",
            "8/8 [==============================] - 0s 3ms/step - loss: 0.8540 - accuracy: 0.4752 - val_loss: 0.8947 - val_accuracy: 0.4426\n",
            "Epoch 71/250\n",
            "8/8 [==============================] - 0s 3ms/step - loss: 0.8394 - accuracy: 0.4835 - val_loss: 0.8853 - val_accuracy: 0.4098\n",
            "Epoch 72/250\n",
            "8/8 [==============================] - 0s 3ms/step - loss: 0.8226 - accuracy: 0.4752 - val_loss: 0.8690 - val_accuracy: 0.4098\n",
            "Epoch 73/250\n",
            "8/8 [==============================] - 0s 3ms/step - loss: 0.8091 - accuracy: 0.4917 - val_loss: 0.8507 - val_accuracy: 0.4426\n",
            "Epoch 74/250\n",
            "8/8 [==============================] - 0s 3ms/step - loss: 0.7956 - accuracy: 0.4835 - val_loss: 0.8384 - val_accuracy: 0.4590\n",
            "Epoch 75/250\n",
            "8/8 [==============================] - 0s 3ms/step - loss: 0.7830 - accuracy: 0.4917 - val_loss: 0.8230 - val_accuracy: 0.4590\n",
            "Epoch 76/250\n",
            "8/8 [==============================] - 0s 3ms/step - loss: 0.7733 - accuracy: 0.5000 - val_loss: 0.8079 - val_accuracy: 0.4590\n",
            "Epoch 77/250\n",
            "8/8 [==============================] - 0s 3ms/step - loss: 0.7592 - accuracy: 0.5165 - val_loss: 0.8029 - val_accuracy: 0.4426\n",
            "Epoch 78/250\n",
            "8/8 [==============================] - 0s 3ms/step - loss: 0.7507 - accuracy: 0.5165 - val_loss: 0.7831 - val_accuracy: 0.4426\n",
            "Epoch 79/250\n",
            "8/8 [==============================] - 0s 3ms/step - loss: 0.7359 - accuracy: 0.5289 - val_loss: 0.7709 - val_accuracy: 0.4590\n",
            "Epoch 80/250\n",
            "8/8 [==============================] - 0s 3ms/step - loss: 0.7276 - accuracy: 0.5372 - val_loss: 0.7600 - val_accuracy: 0.4590\n",
            "Epoch 81/250\n",
            "8/8 [==============================] - 0s 3ms/step - loss: 0.7155 - accuracy: 0.5579 - val_loss: 0.7466 - val_accuracy: 0.4918\n",
            "Epoch 82/250\n",
            "8/8 [==============================] - 0s 3ms/step - loss: 0.7068 - accuracy: 0.5661 - val_loss: 0.7361 - val_accuracy: 0.5082\n",
            "Epoch 83/250\n",
            "8/8 [==============================] - 0s 3ms/step - loss: 0.6988 - accuracy: 0.5826 - val_loss: 0.7264 - val_accuracy: 0.5082\n",
            "Epoch 84/250\n",
            "8/8 [==============================] - 0s 3ms/step - loss: 0.6896 - accuracy: 0.5950 - val_loss: 0.7134 - val_accuracy: 0.5410\n",
            "Epoch 85/250\n",
            "8/8 [==============================] - 0s 3ms/step - loss: 0.6920 - accuracy: 0.5868 - val_loss: 0.7117 - val_accuracy: 0.5246\n",
            "Epoch 86/250\n",
            "8/8 [==============================] - 0s 3ms/step - loss: 0.6740 - accuracy: 0.5826 - val_loss: 0.6936 - val_accuracy: 0.6230\n",
            "Epoch 87/250\n",
            "8/8 [==============================] - 0s 3ms/step - loss: 0.6617 - accuracy: 0.6116 - val_loss: 0.6896 - val_accuracy: 0.5738\n",
            "Epoch 88/250\n",
            "8/8 [==============================] - 0s 3ms/step - loss: 0.6549 - accuracy: 0.6281 - val_loss: 0.6819 - val_accuracy: 0.5574\n",
            "Epoch 89/250\n",
            "8/8 [==============================] - 0s 3ms/step - loss: 0.6471 - accuracy: 0.6446 - val_loss: 0.6685 - val_accuracy: 0.5902\n",
            "Epoch 90/250\n",
            "8/8 [==============================] - 0s 3ms/step - loss: 0.6409 - accuracy: 0.6612 - val_loss: 0.6586 - val_accuracy: 0.6393\n",
            "Epoch 91/250\n",
            "8/8 [==============================] - 0s 3ms/step - loss: 0.6400 - accuracy: 0.6612 - val_loss: 0.6585 - val_accuracy: 0.5574\n",
            "Epoch 92/250\n",
            "8/8 [==============================] - 0s 3ms/step - loss: 0.6265 - accuracy: 0.6694 - val_loss: 0.6433 - val_accuracy: 0.6557\n",
            "Epoch 93/250\n",
            "8/8 [==============================] - 0s 3ms/step - loss: 0.6368 - accuracy: 0.6364 - val_loss: 0.6375 - val_accuracy: 0.6721\n",
            "Epoch 94/250\n",
            "8/8 [==============================] - 0s 3ms/step - loss: 0.6210 - accuracy: 0.6983 - val_loss: 0.6390 - val_accuracy: 0.5738\n",
            "Epoch 95/250\n",
            "8/8 [==============================] - 0s 3ms/step - loss: 0.6091 - accuracy: 0.6653 - val_loss: 0.6233 - val_accuracy: 0.6557\n",
            "Epoch 96/250\n",
            "8/8 [==============================] - 0s 3ms/step - loss: 0.6052 - accuracy: 0.6942 - val_loss: 0.6147 - val_accuracy: 0.7049\n",
            "Epoch 97/250\n",
            "8/8 [==============================] - 0s 3ms/step - loss: 0.5972 - accuracy: 0.6901 - val_loss: 0.6143 - val_accuracy: 0.6230\n",
            "Epoch 98/250\n",
            "8/8 [==============================] - 0s 3ms/step - loss: 0.5942 - accuracy: 0.6942 - val_loss: 0.6031 - val_accuracy: 0.6721\n",
            "Epoch 99/250\n",
            "8/8 [==============================] - 0s 3ms/step - loss: 0.5874 - accuracy: 0.7066 - val_loss: 0.5978 - val_accuracy: 0.6885\n",
            "Epoch 100/250\n",
            "8/8 [==============================] - 0s 3ms/step - loss: 0.5817 - accuracy: 0.7107 - val_loss: 0.5915 - val_accuracy: 0.7213\n",
            "Epoch 101/250\n",
            "8/8 [==============================] - 0s 3ms/step - loss: 0.5793 - accuracy: 0.6983 - val_loss: 0.5879 - val_accuracy: 0.7049\n",
            "Epoch 102/250\n",
            "8/8 [==============================] - 0s 3ms/step - loss: 0.5721 - accuracy: 0.7149 - val_loss: 0.5800 - val_accuracy: 0.8033\n",
            "Epoch 103/250\n",
            "8/8 [==============================] - 0s 3ms/step - loss: 0.5714 - accuracy: 0.7149 - val_loss: 0.5749 - val_accuracy: 0.8197\n",
            "Epoch 104/250\n",
            "8/8 [==============================] - 0s 3ms/step - loss: 0.5657 - accuracy: 0.7149 - val_loss: 0.5705 - val_accuracy: 0.8197\n",
            "Epoch 105/250\n",
            "8/8 [==============================] - 0s 3ms/step - loss: 0.5603 - accuracy: 0.7479 - val_loss: 0.5726 - val_accuracy: 0.7213\n",
            "Epoch 106/250\n",
            "8/8 [==============================] - 0s 3ms/step - loss: 0.5571 - accuracy: 0.7521 - val_loss: 0.5611 - val_accuracy: 0.8361\n",
            "Epoch 107/250\n",
            "8/8 [==============================] - 0s 3ms/step - loss: 0.5515 - accuracy: 0.7562 - val_loss: 0.5573 - val_accuracy: 0.8197\n",
            "Epoch 108/250\n",
            "8/8 [==============================] - 0s 3ms/step - loss: 0.5502 - accuracy: 0.7603 - val_loss: 0.5543 - val_accuracy: 0.8361\n",
            "Epoch 109/250\n",
            "8/8 [==============================] - 0s 3ms/step - loss: 0.5451 - accuracy: 0.7727 - val_loss: 0.5485 - val_accuracy: 0.8525\n",
            "Epoch 110/250\n",
            "8/8 [==============================] - 0s 3ms/step - loss: 0.5481 - accuracy: 0.7273 - val_loss: 0.5436 - val_accuracy: 0.8033\n",
            "Epoch 111/250\n",
            "8/8 [==============================] - 0s 3ms/step - loss: 0.5391 - accuracy: 0.7645 - val_loss: 0.5509 - val_accuracy: 0.7541\n",
            "Epoch 112/250\n",
            "8/8 [==============================] - 0s 3ms/step - loss: 0.5391 - accuracy: 0.7686 - val_loss: 0.5365 - val_accuracy: 0.8197\n",
            "Epoch 113/250\n",
            "8/8 [==============================] - 0s 3ms/step - loss: 0.5331 - accuracy: 0.7727 - val_loss: 0.5348 - val_accuracy: 0.8525\n",
            "Epoch 114/250\n",
            "8/8 [==============================] - 0s 3ms/step - loss: 0.5291 - accuracy: 0.7893 - val_loss: 0.5306 - val_accuracy: 0.8689\n",
            "Epoch 115/250\n",
            "8/8 [==============================] - 0s 3ms/step - loss: 0.5281 - accuracy: 0.7810 - val_loss: 0.5274 - val_accuracy: 0.8525\n",
            "Epoch 116/250\n",
            "8/8 [==============================] - 0s 3ms/step - loss: 0.5264 - accuracy: 0.7562 - val_loss: 0.5231 - val_accuracy: 0.8033\n",
            "Epoch 117/250\n",
            "8/8 [==============================] - 0s 3ms/step - loss: 0.5186 - accuracy: 0.7893 - val_loss: 0.5236 - val_accuracy: 0.8689\n",
            "Epoch 118/250\n",
            "8/8 [==============================] - 0s 3ms/step - loss: 0.5247 - accuracy: 0.8017 - val_loss: 0.5224 - val_accuracy: 0.8525\n",
            "Epoch 119/250\n",
            "8/8 [==============================] - 0s 3ms/step - loss: 0.5137 - accuracy: 0.8017 - val_loss: 0.5148 - val_accuracy: 0.7869\n",
            "Epoch 120/250\n",
            "8/8 [==============================] - 0s 3ms/step - loss: 0.5182 - accuracy: 0.7727 - val_loss: 0.5113 - val_accuracy: 0.8361\n",
            "Epoch 121/250\n",
            "8/8 [==============================] - 0s 3ms/step - loss: 0.5090 - accuracy: 0.8099 - val_loss: 0.5150 - val_accuracy: 0.8525\n",
            "Epoch 122/250\n",
            "8/8 [==============================] - 0s 3ms/step - loss: 0.5129 - accuracy: 0.8017 - val_loss: 0.5058 - val_accuracy: 0.8525\n",
            "Epoch 123/250\n",
            "8/8 [==============================] - 0s 3ms/step - loss: 0.5079 - accuracy: 0.8058 - val_loss: 0.5032 - val_accuracy: 0.8525\n",
            "Epoch 124/250\n",
            "8/8 [==============================] - 0s 3ms/step - loss: 0.5092 - accuracy: 0.8017 - val_loss: 0.5001 - val_accuracy: 0.8525\n",
            "Epoch 125/250\n",
            "8/8 [==============================] - 0s 3ms/step - loss: 0.5103 - accuracy: 0.7851 - val_loss: 0.5093 - val_accuracy: 0.8361\n",
            "Epoch 126/250\n",
            "8/8 [==============================] - 0s 3ms/step - loss: 0.5000 - accuracy: 0.8264 - val_loss: 0.4959 - val_accuracy: 0.8197\n",
            "Epoch 127/250\n",
            "8/8 [==============================] - 0s 3ms/step - loss: 0.5007 - accuracy: 0.7975 - val_loss: 0.4938 - val_accuracy: 0.8525\n",
            "Epoch 128/250\n",
            "8/8 [==============================] - 0s 3ms/step - loss: 0.4955 - accuracy: 0.8182 - val_loss: 0.4918 - val_accuracy: 0.8525\n",
            "Epoch 129/250\n",
            "8/8 [==============================] - 0s 3ms/step - loss: 0.4936 - accuracy: 0.8182 - val_loss: 0.4902 - val_accuracy: 0.8525\n",
            "Epoch 130/250\n",
            "8/8 [==============================] - 0s 3ms/step - loss: 0.4947 - accuracy: 0.8223 - val_loss: 0.4867 - val_accuracy: 0.8361\n",
            "Epoch 131/250\n",
            "8/8 [==============================] - 0s 3ms/step - loss: 0.4918 - accuracy: 0.8264 - val_loss: 0.4874 - val_accuracy: 0.8525\n",
            "Epoch 132/250\n",
            "8/8 [==============================] - 0s 4ms/step - loss: 0.4879 - accuracy: 0.8140 - val_loss: 0.4824 - val_accuracy: 0.8361\n",
            "Epoch 133/250\n",
            "8/8 [==============================] - 0s 3ms/step - loss: 0.4882 - accuracy: 0.7975 - val_loss: 0.4810 - val_accuracy: 0.8525\n",
            "Epoch 134/250\n",
            "8/8 [==============================] - 0s 3ms/step - loss: 0.4877 - accuracy: 0.8223 - val_loss: 0.4810 - val_accuracy: 0.8525\n",
            "Epoch 135/250\n",
            "8/8 [==============================] - 0s 3ms/step - loss: 0.4829 - accuracy: 0.8223 - val_loss: 0.4765 - val_accuracy: 0.8197\n",
            "Epoch 136/250\n",
            "8/8 [==============================] - 0s 3ms/step - loss: 0.4868 - accuracy: 0.7934 - val_loss: 0.4748 - val_accuracy: 0.8197\n",
            "Epoch 137/250\n",
            "8/8 [==============================] - 0s 3ms/step - loss: 0.4822 - accuracy: 0.8223 - val_loss: 0.4800 - val_accuracy: 0.8033\n",
            "Epoch 138/250\n",
            "8/8 [==============================] - 0s 3ms/step - loss: 0.4800 - accuracy: 0.8306 - val_loss: 0.4717 - val_accuracy: 0.8361\n",
            "Epoch 139/250\n",
            "8/8 [==============================] - 0s 3ms/step - loss: 0.4816 - accuracy: 0.8017 - val_loss: 0.4702 - val_accuracy: 0.8197\n",
            "Epoch 140/250\n",
            "8/8 [==============================] - 0s 3ms/step - loss: 0.4751 - accuracy: 0.8223 - val_loss: 0.4740 - val_accuracy: 0.8197\n",
            "Epoch 141/250\n",
            "8/8 [==============================] - 0s 3ms/step - loss: 0.4780 - accuracy: 0.8306 - val_loss: 0.4676 - val_accuracy: 0.8525\n",
            "Epoch 142/250\n",
            "8/8 [==============================] - 0s 3ms/step - loss: 0.4775 - accuracy: 0.8058 - val_loss: 0.4655 - val_accuracy: 0.8525\n",
            "Epoch 143/250\n",
            "8/8 [==============================] - 0s 3ms/step - loss: 0.4735 - accuracy: 0.8223 - val_loss: 0.4664 - val_accuracy: 0.8197\n",
            "Epoch 144/250\n",
            "8/8 [==============================] - 0s 3ms/step - loss: 0.4766 - accuracy: 0.8306 - val_loss: 0.4624 - val_accuracy: 0.8197\n",
            "Epoch 145/250\n",
            "8/8 [==============================] - 0s 3ms/step - loss: 0.4708 - accuracy: 0.8264 - val_loss: 0.4645 - val_accuracy: 0.8197\n",
            "Epoch 146/250\n",
            "8/8 [==============================] - 0s 3ms/step - loss: 0.4702 - accuracy: 0.8264 - val_loss: 0.4602 - val_accuracy: 0.8525\n",
            "Epoch 147/250\n",
            "8/8 [==============================] - 0s 3ms/step - loss: 0.4691 - accuracy: 0.8223 - val_loss: 0.4583 - val_accuracy: 0.8525\n",
            "Epoch 148/250\n",
            "8/8 [==============================] - 0s 3ms/step - loss: 0.4666 - accuracy: 0.8264 - val_loss: 0.4618 - val_accuracy: 0.8197\n",
            "Epoch 149/250\n",
            "8/8 [==============================] - 0s 3ms/step - loss: 0.4655 - accuracy: 0.8140 - val_loss: 0.4560 - val_accuracy: 0.8525\n",
            "Epoch 150/250\n",
            "8/8 [==============================] - 0s 3ms/step - loss: 0.4652 - accuracy: 0.8140 - val_loss: 0.4547 - val_accuracy: 0.8197\n",
            "Epoch 151/250\n",
            "8/8 [==============================] - 0s 3ms/step - loss: 0.4648 - accuracy: 0.8223 - val_loss: 0.4566 - val_accuracy: 0.8033\n",
            "Epoch 152/250\n",
            "8/8 [==============================] - 0s 3ms/step - loss: 0.4606 - accuracy: 0.8264 - val_loss: 0.4522 - val_accuracy: 0.8197\n",
            "Epoch 153/250\n",
            "8/8 [==============================] - 0s 3ms/step - loss: 0.4644 - accuracy: 0.8099 - val_loss: 0.4513 - val_accuracy: 0.8525\n",
            "Epoch 154/250\n",
            "8/8 [==============================] - 0s 3ms/step - loss: 0.4610 - accuracy: 0.8264 - val_loss: 0.4498 - val_accuracy: 0.8361\n",
            "Epoch 155/250\n",
            "8/8 [==============================] - 0s 3ms/step - loss: 0.4626 - accuracy: 0.8182 - val_loss: 0.4509 - val_accuracy: 0.8033\n",
            "Epoch 156/250\n",
            "8/8 [==============================] - 0s 3ms/step - loss: 0.4581 - accuracy: 0.8140 - val_loss: 0.4481 - val_accuracy: 0.8525\n",
            "Epoch 157/250\n",
            "8/8 [==============================] - 0s 3ms/step - loss: 0.4596 - accuracy: 0.8099 - val_loss: 0.4468 - val_accuracy: 0.8197\n",
            "Epoch 158/250\n",
            "8/8 [==============================] - 0s 3ms/step - loss: 0.4599 - accuracy: 0.8140 - val_loss: 0.4555 - val_accuracy: 0.8033\n",
            "Epoch 159/250\n",
            "8/8 [==============================] - 0s 3ms/step - loss: 0.4649 - accuracy: 0.7893 - val_loss: 0.4457 - val_accuracy: 0.8197\n",
            "Epoch 160/250\n",
            "8/8 [==============================] - 0s 3ms/step - loss: 0.4583 - accuracy: 0.8140 - val_loss: 0.4473 - val_accuracy: 0.8197\n",
            "Epoch 161/250\n",
            "8/8 [==============================] - 0s 3ms/step - loss: 0.4526 - accuracy: 0.8223 - val_loss: 0.4426 - val_accuracy: 0.8197\n",
            "Epoch 162/250\n",
            "8/8 [==============================] - 0s 3ms/step - loss: 0.4539 - accuracy: 0.8264 - val_loss: 0.4428 - val_accuracy: 0.8197\n",
            "Epoch 163/250\n",
            "8/8 [==============================] - 0s 3ms/step - loss: 0.4538 - accuracy: 0.8264 - val_loss: 0.4410 - val_accuracy: 0.8197\n",
            "Epoch 164/250\n",
            "8/8 [==============================] - 0s 3ms/step - loss: 0.4499 - accuracy: 0.8223 - val_loss: 0.4422 - val_accuracy: 0.8033\n",
            "Epoch 165/250\n",
            "8/8 [==============================] - 0s 3ms/step - loss: 0.4526 - accuracy: 0.8264 - val_loss: 0.4477 - val_accuracy: 0.8033\n",
            "Epoch 166/250\n",
            "8/8 [==============================] - 0s 3ms/step - loss: 0.4579 - accuracy: 0.7975 - val_loss: 0.4403 - val_accuracy: 0.8197\n",
            "Epoch 167/250\n",
            "8/8 [==============================] - 0s 3ms/step - loss: 0.4482 - accuracy: 0.8058 - val_loss: 0.4418 - val_accuracy: 0.8197\n",
            "Epoch 168/250\n",
            "8/8 [==============================] - 0s 3ms/step - loss: 0.4510 - accuracy: 0.8182 - val_loss: 0.4416 - val_accuracy: 0.8197\n",
            "Epoch 169/250\n",
            "8/8 [==============================] - 0s 3ms/step - loss: 0.4491 - accuracy: 0.8058 - val_loss: 0.4397 - val_accuracy: 0.8197\n",
            "Epoch 170/250\n",
            "8/8 [==============================] - 0s 3ms/step - loss: 0.4541 - accuracy: 0.8099 - val_loss: 0.4408 - val_accuracy: 0.8197\n",
            "Epoch 171/250\n",
            "8/8 [==============================] - 0s 3ms/step - loss: 0.4490 - accuracy: 0.8182 - val_loss: 0.4353 - val_accuracy: 0.8197\n",
            "Epoch 172/250\n",
            "8/8 [==============================] - 0s 3ms/step - loss: 0.4446 - accuracy: 0.8264 - val_loss: 0.4362 - val_accuracy: 0.8033\n",
            "Epoch 173/250\n",
            "8/8 [==============================] - 0s 3ms/step - loss: 0.4436 - accuracy: 0.8306 - val_loss: 0.4343 - val_accuracy: 0.8197\n",
            "Epoch 174/250\n",
            "8/8 [==============================] - 0s 3ms/step - loss: 0.4510 - accuracy: 0.8182 - val_loss: 0.4331 - val_accuracy: 0.8361\n",
            "Epoch 175/250\n",
            "8/8 [==============================] - 0s 3ms/step - loss: 0.4436 - accuracy: 0.8182 - val_loss: 0.4386 - val_accuracy: 0.8197\n",
            "Epoch 176/250\n",
            "8/8 [==============================] - 0s 3ms/step - loss: 0.4413 - accuracy: 0.8182 - val_loss: 0.4330 - val_accuracy: 0.8197\n",
            "Epoch 177/250\n",
            "8/8 [==============================] - 0s 3ms/step - loss: 0.4409 - accuracy: 0.8223 - val_loss: 0.4322 - val_accuracy: 0.8197\n",
            "Epoch 178/250\n",
            "8/8 [==============================] - 0s 3ms/step - loss: 0.4410 - accuracy: 0.8306 - val_loss: 0.4320 - val_accuracy: 0.8033\n",
            "Epoch 179/250\n",
            "8/8 [==============================] - 0s 3ms/step - loss: 0.4453 - accuracy: 0.8140 - val_loss: 0.4343 - val_accuracy: 0.8197\n",
            "Epoch 180/250\n",
            "8/8 [==============================] - 0s 3ms/step - loss: 0.4426 - accuracy: 0.8347 - val_loss: 0.4304 - val_accuracy: 0.8197\n",
            "Epoch 181/250\n",
            "8/8 [==============================] - 0s 3ms/step - loss: 0.4367 - accuracy: 0.8223 - val_loss: 0.4328 - val_accuracy: 0.8197\n",
            "Epoch 182/250\n",
            "8/8 [==============================] - 0s 3ms/step - loss: 0.4373 - accuracy: 0.8388 - val_loss: 0.4284 - val_accuracy: 0.8197\n",
            "Epoch 183/250\n",
            "8/8 [==============================] - 0s 3ms/step - loss: 0.4356 - accuracy: 0.8306 - val_loss: 0.4274 - val_accuracy: 0.8197\n",
            "Epoch 184/250\n",
            "8/8 [==============================] - 0s 3ms/step - loss: 0.4373 - accuracy: 0.8223 - val_loss: 0.4269 - val_accuracy: 0.8197\n",
            "Epoch 185/250\n",
            "8/8 [==============================] - 0s 3ms/step - loss: 0.4349 - accuracy: 0.8306 - val_loss: 0.4256 - val_accuracy: 0.8197\n",
            "Epoch 186/250\n",
            "8/8 [==============================] - 0s 3ms/step - loss: 0.4338 - accuracy: 0.8223 - val_loss: 0.4264 - val_accuracy: 0.8033\n",
            "Epoch 187/250\n",
            "8/8 [==============================] - 0s 3ms/step - loss: 0.4321 - accuracy: 0.8223 - val_loss: 0.4238 - val_accuracy: 0.8197\n",
            "Epoch 188/250\n",
            "8/8 [==============================] - 0s 3ms/step - loss: 0.4340 - accuracy: 0.8223 - val_loss: 0.4233 - val_accuracy: 0.8361\n",
            "Epoch 189/250\n",
            "8/8 [==============================] - 0s 3ms/step - loss: 0.4330 - accuracy: 0.8223 - val_loss: 0.4250 - val_accuracy: 0.8033\n",
            "Epoch 190/250\n",
            "8/8 [==============================] - 0s 3ms/step - loss: 0.4307 - accuracy: 0.8264 - val_loss: 0.4236 - val_accuracy: 0.8197\n",
            "Epoch 191/250\n",
            "8/8 [==============================] - 0s 3ms/step - loss: 0.4321 - accuracy: 0.8264 - val_loss: 0.4223 - val_accuracy: 0.8197\n",
            "Epoch 192/250\n",
            "8/8 [==============================] - 0s 3ms/step - loss: 0.4312 - accuracy: 0.8223 - val_loss: 0.4220 - val_accuracy: 0.8361\n",
            "Epoch 193/250\n",
            "8/8 [==============================] - 0s 3ms/step - loss: 0.4295 - accuracy: 0.8264 - val_loss: 0.4226 - val_accuracy: 0.8033\n",
            "Epoch 194/250\n",
            "8/8 [==============================] - 0s 3ms/step - loss: 0.4284 - accuracy: 0.8347 - val_loss: 0.4205 - val_accuracy: 0.8361\n",
            "Epoch 195/250\n",
            "8/8 [==============================] - 0s 3ms/step - loss: 0.4273 - accuracy: 0.8306 - val_loss: 0.4210 - val_accuracy: 0.8197\n",
            "Epoch 196/250\n",
            "8/8 [==============================] - 0s 3ms/step - loss: 0.4268 - accuracy: 0.8264 - val_loss: 0.4197 - val_accuracy: 0.8197\n",
            "Epoch 197/250\n",
            "8/8 [==============================] - 0s 3ms/step - loss: 0.4278 - accuracy: 0.8264 - val_loss: 0.4197 - val_accuracy: 0.8197\n",
            "Epoch 198/250\n",
            "8/8 [==============================] - 0s 3ms/step - loss: 0.4252 - accuracy: 0.8306 - val_loss: 0.4209 - val_accuracy: 0.8033\n",
            "Epoch 199/250\n",
            "8/8 [==============================] - 0s 3ms/step - loss: 0.4290 - accuracy: 0.8306 - val_loss: 0.4189 - val_accuracy: 0.8197\n",
            "Epoch 200/250\n",
            "8/8 [==============================] - 0s 3ms/step - loss: 0.4298 - accuracy: 0.8264 - val_loss: 0.4186 - val_accuracy: 0.8033\n",
            "Epoch 201/250\n",
            "8/8 [==============================] - 0s 3ms/step - loss: 0.4264 - accuracy: 0.8347 - val_loss: 0.4177 - val_accuracy: 0.8197\n",
            "Epoch 202/250\n",
            "8/8 [==============================] - 0s 3ms/step - loss: 0.4255 - accuracy: 0.8306 - val_loss: 0.4171 - val_accuracy: 0.8361\n",
            "Epoch 203/250\n",
            "8/8 [==============================] - 0s 3ms/step - loss: 0.4235 - accuracy: 0.8306 - val_loss: 0.4184 - val_accuracy: 0.8033\n",
            "Epoch 204/250\n",
            "8/8 [==============================] - 0s 3ms/step - loss: 0.4234 - accuracy: 0.8306 - val_loss: 0.4160 - val_accuracy: 0.8197\n",
            "Epoch 205/250\n",
            "8/8 [==============================] - 0s 3ms/step - loss: 0.4216 - accuracy: 0.8264 - val_loss: 0.4174 - val_accuracy: 0.8033\n",
            "Epoch 206/250\n",
            "8/8 [==============================] - 0s 3ms/step - loss: 0.4211 - accuracy: 0.8306 - val_loss: 0.4148 - val_accuracy: 0.8197\n",
            "Epoch 207/250\n",
            "8/8 [==============================] - 0s 3ms/step - loss: 0.4227 - accuracy: 0.8223 - val_loss: 0.4143 - val_accuracy: 0.8197\n",
            "Epoch 208/250\n",
            "8/8 [==============================] - 0s 3ms/step - loss: 0.4307 - accuracy: 0.8182 - val_loss: 0.4207 - val_accuracy: 0.8197\n",
            "Epoch 209/250\n",
            "8/8 [==============================] - 0s 3ms/step - loss: 0.4224 - accuracy: 0.8306 - val_loss: 0.4173 - val_accuracy: 0.8197\n",
            "Epoch 210/250\n",
            "8/8 [==============================] - 0s 3ms/step - loss: 0.4228 - accuracy: 0.8306 - val_loss: 0.4151 - val_accuracy: 0.8033\n",
            "Epoch 211/250\n",
            "8/8 [==============================] - 0s 3ms/step - loss: 0.4225 - accuracy: 0.8306 - val_loss: 0.4141 - val_accuracy: 0.8033\n",
            "Epoch 212/250\n",
            "8/8 [==============================] - 0s 3ms/step - loss: 0.4198 - accuracy: 0.8347 - val_loss: 0.4129 - val_accuracy: 0.8361\n",
            "Epoch 213/250\n",
            "8/8 [==============================] - 0s 3ms/step - loss: 0.4167 - accuracy: 0.8264 - val_loss: 0.4170 - val_accuracy: 0.8361\n",
            "Epoch 214/250\n",
            "8/8 [==============================] - 0s 3ms/step - loss: 0.4189 - accuracy: 0.8264 - val_loss: 0.4116 - val_accuracy: 0.8197\n",
            "Epoch 215/250\n",
            "8/8 [==============================] - 0s 3ms/step - loss: 0.4183 - accuracy: 0.8347 - val_loss: 0.4133 - val_accuracy: 0.8033\n",
            "Epoch 216/250\n",
            "8/8 [==============================] - 0s 3ms/step - loss: 0.4189 - accuracy: 0.8306 - val_loss: 0.4113 - val_accuracy: 0.8361\n",
            "Epoch 217/250\n",
            "8/8 [==============================] - 0s 3ms/step - loss: 0.4175 - accuracy: 0.8471 - val_loss: 0.4167 - val_accuracy: 0.8361\n",
            "Epoch 218/250\n",
            "8/8 [==============================] - 0s 3ms/step - loss: 0.4137 - accuracy: 0.8388 - val_loss: 0.4113 - val_accuracy: 0.8361\n",
            "Epoch 219/250\n",
            "8/8 [==============================] - 0s 3ms/step - loss: 0.4171 - accuracy: 0.8264 - val_loss: 0.4114 - val_accuracy: 0.8361\n",
            "Epoch 220/250\n",
            "8/8 [==============================] - 0s 3ms/step - loss: 0.4151 - accuracy: 0.8306 - val_loss: 0.4140 - val_accuracy: 0.8361\n",
            "Epoch 221/250\n",
            "8/8 [==============================] - 0s 4ms/step - loss: 0.4156 - accuracy: 0.8306 - val_loss: 0.4100 - val_accuracy: 0.8033\n",
            "Epoch 222/250\n",
            "8/8 [==============================] - 0s 3ms/step - loss: 0.4171 - accuracy: 0.8306 - val_loss: 0.4110 - val_accuracy: 0.8361\n",
            "Epoch 223/250\n",
            "8/8 [==============================] - 0s 3ms/step - loss: 0.4159 - accuracy: 0.8471 - val_loss: 0.4141 - val_accuracy: 0.8361\n",
            "Epoch 224/250\n",
            "8/8 [==============================] - 0s 3ms/step - loss: 0.4183 - accuracy: 0.8347 - val_loss: 0.4089 - val_accuracy: 0.8361\n",
            "Epoch 225/250\n",
            "8/8 [==============================] - 0s 3ms/step - loss: 0.4134 - accuracy: 0.8347 - val_loss: 0.4127 - val_accuracy: 0.8361\n",
            "Epoch 226/250\n",
            "8/8 [==============================] - 0s 3ms/step - loss: 0.4109 - accuracy: 0.8347 - val_loss: 0.4082 - val_accuracy: 0.8361\n",
            "Epoch 227/250\n",
            "8/8 [==============================] - 0s 3ms/step - loss: 0.4127 - accuracy: 0.8223 - val_loss: 0.4097 - val_accuracy: 0.8197\n",
            "Epoch 228/250\n",
            "8/8 [==============================] - 0s 3ms/step - loss: 0.4140 - accuracy: 0.8223 - val_loss: 0.4077 - val_accuracy: 0.8197\n",
            "Epoch 229/250\n",
            "8/8 [==============================] - 0s 3ms/step - loss: 0.4224 - accuracy: 0.8347 - val_loss: 0.4080 - val_accuracy: 0.8033\n",
            "Epoch 230/250\n",
            "8/8 [==============================] - 0s 3ms/step - loss: 0.4119 - accuracy: 0.8306 - val_loss: 0.4074 - val_accuracy: 0.8361\n",
            "Epoch 231/250\n",
            "8/8 [==============================] - 0s 3ms/step - loss: 0.4110 - accuracy: 0.8264 - val_loss: 0.4107 - val_accuracy: 0.8197\n",
            "Epoch 232/250\n",
            "8/8 [==============================] - 0s 3ms/step - loss: 0.4120 - accuracy: 0.8430 - val_loss: 0.4067 - val_accuracy: 0.8033\n",
            "Epoch 233/250\n",
            "8/8 [==============================] - 0s 3ms/step - loss: 0.4073 - accuracy: 0.8347 - val_loss: 0.4075 - val_accuracy: 0.8033\n",
            "Epoch 234/250\n",
            "8/8 [==============================] - 0s 3ms/step - loss: 0.4090 - accuracy: 0.8347 - val_loss: 0.4072 - val_accuracy: 0.8033\n",
            "Epoch 235/250\n",
            "8/8 [==============================] - 0s 3ms/step - loss: 0.4077 - accuracy: 0.8264 - val_loss: 0.4059 - val_accuracy: 0.8525\n",
            "Epoch 236/250\n",
            "8/8 [==============================] - 0s 3ms/step - loss: 0.4047 - accuracy: 0.8388 - val_loss: 0.4088 - val_accuracy: 0.8197\n",
            "Epoch 237/250\n",
            "8/8 [==============================] - 0s 3ms/step - loss: 0.4085 - accuracy: 0.8512 - val_loss: 0.4068 - val_accuracy: 0.8197\n",
            "Epoch 238/250\n",
            "8/8 [==============================] - 0s 3ms/step - loss: 0.4040 - accuracy: 0.8430 - val_loss: 0.4056 - val_accuracy: 0.8361\n",
            "Epoch 239/250\n",
            "8/8 [==============================] - 0s 3ms/step - loss: 0.4088 - accuracy: 0.8264 - val_loss: 0.4056 - val_accuracy: 0.8033\n",
            "Epoch 240/250\n",
            "8/8 [==============================] - 0s 3ms/step - loss: 0.4111 - accuracy: 0.8223 - val_loss: 0.4045 - val_accuracy: 0.8361\n",
            "Epoch 241/250\n",
            "8/8 [==============================] - 0s 3ms/step - loss: 0.4088 - accuracy: 0.8306 - val_loss: 0.4115 - val_accuracy: 0.8361\n",
            "Epoch 242/250\n",
            "8/8 [==============================] - 0s 3ms/step - loss: 0.4098 - accuracy: 0.8223 - val_loss: 0.4049 - val_accuracy: 0.8361\n",
            "Epoch 243/250\n",
            "8/8 [==============================] - 0s 3ms/step - loss: 0.4058 - accuracy: 0.8306 - val_loss: 0.4059 - val_accuracy: 0.8197\n",
            "Epoch 244/250\n",
            "8/8 [==============================] - 0s 3ms/step - loss: 0.4043 - accuracy: 0.8512 - val_loss: 0.4066 - val_accuracy: 0.8197\n",
            "Epoch 245/250\n",
            "8/8 [==============================] - 0s 3ms/step - loss: 0.4030 - accuracy: 0.8388 - val_loss: 0.4032 - val_accuracy: 0.8033\n",
            "Epoch 246/250\n",
            "8/8 [==============================] - 0s 3ms/step - loss: 0.4067 - accuracy: 0.8306 - val_loss: 0.4029 - val_accuracy: 0.8033\n",
            "Epoch 247/250\n",
            "8/8 [==============================] - 0s 3ms/step - loss: 0.4119 - accuracy: 0.8306 - val_loss: 0.4040 - val_accuracy: 0.8197\n",
            "Epoch 248/250\n",
            "8/8 [==============================] - 0s 3ms/step - loss: 0.4012 - accuracy: 0.8306 - val_loss: 0.4025 - val_accuracy: 0.8525\n",
            "Epoch 249/250\n",
            "8/8 [==============================] - 0s 3ms/step - loss: 0.4051 - accuracy: 0.8347 - val_loss: 0.4055 - val_accuracy: 0.8197\n",
            "Epoch 250/250\n",
            "8/8 [==============================] - 0s 3ms/step - loss: 0.4021 - accuracy: 0.8471 - val_loss: 0.4012 - val_accuracy: 0.8361\n"
          ],
          "name": "stdout"
        },
        {
          "output_type": "execute_result",
          "data": {
            "text/plain": [
              "<tensorflow.python.keras.callbacks.History at 0x7f8c41510128>"
            ]
          },
          "metadata": {
            "tags": []
          },
          "execution_count": 18
        }
      ]
    },
    {
      "cell_type": "code",
      "metadata": {
        "id": "sy63n95px-Qi",
        "colab_type": "code",
        "colab": {}
      },
      "source": [
        "# Calculate the achieved accuracy\n",
        "Y_pred_nn = model.predict(X_test)\n",
        "rounded = [round(x[0]) for x in Y_pred_nn]\n",
        "Y_pred_nn = rounded"
      ],
      "execution_count": 19,
      "outputs": []
    },
    {
      "cell_type": "code",
      "metadata": {
        "id": "YA0_3t6ux-5r",
        "colab_type": "code",
        "colab": {
          "base_uri": "https://localhost:8080/",
          "height": 35
        },
        "outputId": "f0accc2b-2e41-459a-89f8-7ab8c8c1fd79"
      },
      "source": [
        "# Print the Accuracy achieved using Neural Network\n",
        "score_nn = round(accuracy_score(Y_pred_nn,Y_test)*100,2)\n",
        "print(\"The accuracy score achieved using Neural Network is: \"+str(score_nn)+\" %\")"
      ],
      "execution_count": 20,
      "outputs": [
        {
          "output_type": "stream",
          "text": [
            "The accuracy score achieved using Neural Network is: 83.61 %\n"
          ],
          "name": "stdout"
        }
      ]
    },
    {
      "cell_type": "markdown",
      "metadata": {
        "id": "TOBH_QWGyF-h",
        "colab_type": "text"
      },
      "source": [
        "**Observation:**\n",
        "\n",
        "After analyzing the data and applying KNN and Neural Network we have concluded that the accuracy achieved using Neural network is around 84 percent which is higher than KNN."
      ]
    },
    {
      "cell_type": "markdown",
      "metadata": {
        "id": "x04vqRY5ygo4",
        "colab_type": "text"
      },
      "source": [
        "# Overall Observations: \n",
        "\n",
        "1. In our dataset, there are 303 people, out of which 207(~ 68%) are males and  96 (~ 32%) are females. \n",
        "\n",
        "* 93 out of 207 males and 72 out of 96 females are heart patients.\n",
        "\n",
        "2. Out of 303 people, 165 (i.e. ~ 54%) are heart patients.\n",
        "* 56.36% of the heart patients are Male\n",
        "* 43.64% of the heart patients are Female\n",
        "\n",
        "3.  Women have more probability of having heart disease as compared to men.\n",
        "\n",
        "4. Mostly Heart patients lies within the age group of 50-60\n",
        "* The youngest heart patient is of age 29 and the eldest is of 77yrs.\n",
        "\n",
        "5. People with chest pain type - \"Non-Anginal\" and \"Typical Angina\", have more heart disease probability.\n",
        "\n",
        "* There are 143 people who has Typical Angina chest pain, out of which 104 are suffering from heart disease."
      ]
    }
  ]
}